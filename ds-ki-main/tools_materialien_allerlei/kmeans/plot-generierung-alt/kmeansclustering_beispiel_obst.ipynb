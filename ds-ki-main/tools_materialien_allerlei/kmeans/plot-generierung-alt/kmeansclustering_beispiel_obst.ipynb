{
  "cells": [
    {
      "cell_type": "markdown",
      "id": "5ea5ec44",
      "metadata": {},
      "source": [
        "Vorbereiten der nötigen Imports"
      ]
    },
    {
      "cell_type": "code",
      "execution_count": null,
      "id": "a19f8b83",
      "metadata": {},
      "outputs": [],
      "source": [
        "import matplotlib.pyplot as plt\n",
        "from matplotlib.offsetbox import AnnotationBbox, OffsetImage\n",
        "import pandas as pd\n",
        "from sklearn.cluster import KMeans\n",
        "from matplotlib import rcParams\n",
        "from imojify import imojify"
      ]
    },
    {
      "cell_type": "markdown",
      "id": "1729520f",
      "metadata": {},
      "source": [
        "Eingabedaten vorbereiten"
      ]
    },
    {
      "cell_type": "code",
      "execution_count": null,
      "id": "63e277d9",
      "metadata": {},
      "outputs": [],
      "source": [
        "data = {\n",
        "    \"Obst\": [\"Apfel\", \"Birne\", \"Banane\", \"Orange\", \"Weintrauben\", \"Erdbeere\", \"Wassermelone\", \"Mango\"],\n",
        "    \"Wassergehalt\": [85, 83, 75, 87, 81, 91, 92, 83],\n",
        "    \"Fruchtzuckergehalt\": [10, 10, 12, 8, 16, 5, 6, 14]\n",
        "}\n",
        "\n",
        "emoji_map = {\n",
        "    \"Apfel\": \"🍎\",\n",
        "    \"Birne\": \"🍐\",\n",
        "    \"Banane\": \"🍌\",\n",
        "    \"Orange\": \"🍊\",\n",
        "    \"Weintrauben\": \"🍇\",\n",
        "    \"Erdbeere\": \"🍓\",\n",
        "    \"Wassermelone\": \"🍉\",\n",
        "    \"Mango\": \"🥭\"\n",
        "}"
      ]
    },
    {
      "cell_type": "code",
      "execution_count": null,
      "id": "46b1b62c",
      "metadata": {},
      "outputs": [],
      "source": [
        "df = pd.DataFrame(data)\n",
        "# K-Means Clustering\n",
        "# Um unterschiedliche Resultate zu erhalten, kann random_state auf andere Werte als 42 gesetzt werden\n",
        "random_state = 99\n",
        "# Um das Bild ohne Datenpunkte zu erhalten, muss temporär zorder=3 für add_image() gesetzt werden\n",
        "zorder_emojis = 1\n",
        "kmeans = KMeans(n_clusters=3, max_iter=500, random_state=random_state)\n",
        "df['Cluster'] = kmeans.fit_predict(df[[\"Wassergehalt\", \"Fruchtzuckergehalt\"]])"
      ]
    },
    {
      "cell_type": "code",
      "execution_count": null,
      "id": "aef5a723",
      "metadata": {
        "lines_to_next_cell": 1
      },
      "outputs": [],
      "source": [
        "# Plot einrichten\n",
        "plt.figure(figsize=(10, 8))\n",
        "plt.xlabel(\"Wassergehalt (%)\")\n",
        "plt.ylabel(\"Fruchtzuckergehalt (g/100g)\")\n",
        "plt.grid(True)"
      ]
    },
    {
      "cell_type": "code",
      "execution_count": null,
      "id": "7957a750",
      "metadata": {
        "lines_to_next_cell": 1
      },
      "outputs": [],
      "source": [
        "# Methode, um Emojis in den Plot einzufügen\n",
        "def add_image(emoji_path, x, y, zoom=0.05, x_offset=0.0, y_offset=0.0, zorder=1):\n",
        "    \"\"\"\n",
        "    Fügt ein Bild (Emoji) neben dem Diagramm an den angegebenen Koordinaten mit einem Versatz hinzu.\n",
        "    Parameter:\n",
        "    - emoji_path: Pfad zum Emoji-Bild.\n",
        "    - x, y: Koordinaten, wo das Bild hinzugefügt werden soll.\n",
        "    - zoom: Zoom-Level des Bildes.\n",
        "    - x_offset, y_offset: Versatzwerte, um das Emoji neben den Datenpunkt zu positionieren.\n",
        "    \"\"\"\n",
        "    img = plt.imread(emoji_path)\n",
        "    imagebox = OffsetImage(img, zoom=zoom)\n",
        "    ab = AnnotationBbox(imagebox, (x + x_offset, y + y_offset), frameon=False, zorder=zorder)\n",
        "    plt.gca().add_artist(ab)"
      ]
    },
    {
      "cell_type": "code",
      "execution_count": null,
      "id": "61270dbb",
      "metadata": {},
      "outputs": [],
      "source": [
        "for i, row in df.iterrows():\n",
        "    emoji = emoji_map.get(row['Obst'])\n",
        "    if emoji:\n",
        "        emoji_path = imojify.get_img_path(emoji)\n",
        "        add_image(emoji_path, row['Wassergehalt'], row['Fruchtzuckergehalt'], zoom=0.075, x_offset=0.0, y_offset=0.0, zorder=3)"
      ]
    },
    {
      "cell_type": "code",
      "execution_count": null,
      "id": "1e2c2a84",
      "metadata": {},
      "outputs": [],
      "source": [
        "# Definierte Farben für die drei Cluster\n",
        "# colors = ['#381fb4', '#2ca02c', '#a14242']"
      ]
    },
    {
      "cell_type": "markdown",
      "id": "21b9c8c3",
      "metadata": {},
      "source": [
        "# Nur aktivieren, wenn neu erzeugt werden soll, zorder_emojis=3 setzen (s.o.)\n",
        "plt.draw()"
      ]
    },
    {
      "cell_type": "code",
      "execution_count": null,
      "id": "5f770911",
      "metadata": {},
      "outputs": [],
      "source": [
        "  # Cluster sortieren, damit die Legende in der gewünschten Reihenfolge ist\n",
        "for cluster in sorted(df['Cluster'].unique()):\n",
        "    cluster_data = df[df['Cluster'] == cluster]\n",
        "    plt.scatter(cluster_data['Wassergehalt'],\n",
        "                cluster_data['Fruchtzuckergehalt'],\n",
        "                label=f'Cluster {cluster + 1}',\n",
        "                color=colors[cluster], s=100, zorder=2)"
      ]
    },
    {
      "cell_type": "code",
      "execution_count": null,
      "id": "cf2e7138",
      "metadata": {},
      "outputs": [],
      "source": [
        "# Zentroiden der Cluster plotten, mit den gleichen Farben wie die Cluster\n",
        "centroids = kmeans.cluster_centers_\n",
        "for cluster_index, centroid in enumerate(centroids):\n",
        "    plt.scatter(centroid[0], centroid[1], c=[colors[cluster_index]], marker='x', s=200, linewidths=3)"
      ]
    },
    {
      "cell_type": "code",
      "execution_count": null,
      "id": "44728769",
      "metadata": {},
      "outputs": [],
      "source": [
        "centroids = kmeans.cluster_centers_\n",
        "for i, centroid in enumerate(centroids):\n",
        "    print(f\"Centroid {i}: Wassergehalt = {centroid[0]}, Fruchtzuckergehalt = {centroid[1]}\")"
      ]
    },
    {
      "cell_type": "code",
      "execution_count": null,
      "id": "63372161",
      "metadata": {},
      "outputs": [],
      "source": [
        "# Zentroiden-Koordinaten als Text in der entsprechenden Cluster-Farbe unterhalb des Plots einfügen\n",
        "for i, (x, y) in enumerate(centroids):\n",
        "    plt.figtext(0.2, 0.3 - i * 0.05, f\"Centroid {i + 1}: {x:.2f}, {y:.2f}\", ha=\"left\", \n",
        "                fontsize=10, color=colors[i], bbox={\"facecolor\": \"lightgrey\", \"alpha\": 0.5, \"pad\": 5})"
      ]
    },
    {
      "cell_type": "code",
      "execution_count": null,
      "id": "57786837",
      "metadata": {},
      "outputs": [],
      "source": [
        "# Hinzufügen von Beschriftungen, Legende und Raster\n",
        "plt.legend()\n",
        "plt.savefig(f\"images/kmeans_obst_clusters_{random_state}.svg\")"
      ]
    }
  ],
  "metadata": {
    "jupytext": {
      "cell_metadata_filter": "-all",
      "main_language": "python",
      "notebook_metadata_filter": "-all"
    },
    "language_info": {
      "name": "python"
    }
  },
  "nbformat": 4,
  "nbformat_minor": 5
}
