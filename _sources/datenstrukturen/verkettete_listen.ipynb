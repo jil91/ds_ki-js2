{
 "cells": [
  {
   "cell_type": "markdown",
   "metadata": {},
   "source": [
    "## Verkettete Listen \n",
    "\n",
    "Es gibt zwei gebräuchliche *Datenstrukturen*, mit denen man den ADT Liste implementieren kann:\n",
    "\n",
    "1. Verkettete Liste\n",
    "2. Array (hierbei muss berücksichtigt werden, dass die Größe des Arrays begrenzt ist und\n",
    "evtl. intern zwischendurch neue Arrays erstellt werden müssen, wenn die Größe überschritten wird)\n",
    "\n",
    "Wir beschäftigen uns hier nur mit der Implemetierung als Verkettete Liste, weil wir dadurch\n",
    "die Grundlagen von *rekursiven Datenstrukturen* kennenlernen, die wir später auch bei Bäumen\n",
    "benötigen.\n",
    "\n",
    "### Wie sehen verkettete Listen aus?\n",
    "\n",
    "```{figure} bilder/verkettete_Liste_DCBA.svg\n",
    "---\n",
    "width: 70%\n",
    "name: fig_verkettete_Liste_DCBA\n",
    "align: center\n",
    "---\n",
    "Verkettete Liste oder Polonaise?\n",
    "```\n",
    "\n",
    "Eine verkettete Liste besteht aus **Knoten**. Jeder Knoten enthält einen **Inhalt** (z.B. eine Zahl oder\n",
    "einen String) und eine **Referenz** auf den *nächsten* Knoten.\n",
    "\n",
    "Beispiel:\n",
    "Liste = [\"Dina\", \"Coco\", \"Bibi\", \"Anna\"]\n",
    "\n",
    "Die Liste besteht aus 4 Knoten:\n",
    "- Knoten1: Inhalt=\"Dina\", naechster=Knoten2\n",
    "- Knoten2: Inhalt=\"Coco\", naechster=Knoten3\n",
    "- Knoten3: Inhalt=\"Bibi\", naechster=Knoten4\n",
    "- Knoten4: Inhalt=\"Anna\", naechster=None\n",
    "\n",
    "Die Referenz `naechster` des letzten Knotens ist `None`, da es keinen weiteren Knoten gibt.\n",
    "\n",
    "### Übung: Einen neuen Knoten in eine Liste einfügen\n",
    "Zwischen `Coco` und `Bibi` soll ein weiterer Knoten eingefügt werden, z.B. `Horst`. Dazu muss folgendes passieren:\n",
    "\n",
    "```{margin}\n",
    "Das klingt einfach... aber der 😈 steckt im Detail, wie du unten gleich sehen wirst!\n",
    "```\n",
    "\n",
    "1. Ein neuer Knoten, der als Inhalt den String \"Horst\" enthält wird angelegt.\n",
    "2. Der Nachfolger von `Coco` wird auf `Horst` gesetzt.\n",
    "3. Der Nachfolger von `Horst` wird auf `Bibi` gesetzt.\n",
    "\n",
    "**Aufgabe:** Zeichne {numref}`fig_verkettete_Liste_DCBA` ab. Ändere deine Zeichnung dann Schritt für Schritt anhand der oben genannten Schritte ab. *Überlege dabei genau, welche Reihenfolge dabei sinnvoll ist.*\n",
    " "
   ]
  },
  {
   "cell_type": "markdown",
   "metadata": {},
   "source": [
    "(sec:verkettete_listen-uml)=\n",
    "### Verkettete Listen in UML\n",
    "\n",
    "#### Klassendiagramm\n",
    "Das Klassendiagramm  {numref}`fig_kd_verkettete_liste` zeigt, wie man die verkettete Liste in UML modelliert. Du siehst, dass zwei Klassen verwendet werden, *VerketteteListe* und *Knoten*. Die Klasse *VerketteteListe* speichert eine Referenz auf den *ersten* Knoten (den **Listenkopf**) und enthält all die Methoden aus dem ADT Liste, wie Hinzufügen, Entfernen und Suchen von Elementen. \n",
    "\n",
    "```{margin}\n",
    "Die Angabe `<Typ>` bezeichnet einen **generischen** Datentyp. Das bedeutet: Jede Liste speichert Daten eines konkreten Datentyps, z.B. `GZ`, `Text` oder `Mitarbeiter`. Überall wo im Diagramm `<Typ>` steht, wird das durch diese konkrete Klasse ersetzt. Eine `VerketteteListe<Text>` speichert also `Text`-Objekte und verwaltet diese mithilfe von `Knoten<Text>`-Objekten, usw. \n",
    "```\n",
    "\n",
    "```{figure} bilder/kd_verkettete_liste_fosa.svg\n",
    "---\n",
    "width: 80%\n",
    "name: fig_kd_verkettete_liste\n",
    "align: center\n",
    "---\n",
    "Klassendiagramm für die Datenstruktur *Verkettete Liste* (FoSa 5.1)\n",
    "```\n",
    "\n",
    "\n",
    "Die eigentliche Arbeit der Datenstruktur erfolgt in der Klasse *Knoten*, die ein einzelnes Listenelement darstellt. Jeder Knoten enthält sowohl einen Inhalt als auch eine Referenz auf den nächsten Knoten. Es handelt sich hier also um eine Assoziation der Klasse Knoten *mit sich selbst*  (von Knoten zu Knoten). Man spricht hierbei von einer *reflexiven* Assoziation.\n",
    "\n",
    "**Beispiel:** In einer betriebswirtschaftlichen Software wird die Klasse `Mitarbeiter` verwendet. Jedes `Mitarbeiter`-Objekt speichert die Daten *eines* Angestellten. Um z.B. alle Mitarbeiter einer Abteilung zu verwalten, benötigt man eine *Liste* von `Mitarbeiter`-Objekten. Das konkrete Klassendiagramm sieht dann so aus: \n",
    "\n",
    "```{figure} bilder/KD_Mitarbeiter_VerketteteListe.svg \n",
    "---\n",
    "width: 80%\n",
    "name: fig_kd_mitarbeiter_verketteteliste\n",
    "align: center\n",
    "---\n",
    "Klassendiagramm: Verkettete Liste von Mitarbeitern\n",
    "```\n",
    "\n",
    "#### Objektdiagramm\n",
    "```{important}\n",
    "Achtung: Dass die *Klasse* Knoten eine Assoziation mit sich selbst hat, bedeutet nicht, dass auch die einzelnen *Objekte* mit sich selbst assoziiert sind. Stattdessen ergibt sich im Objektdiagramm eine\n",
    "*Kette* von Objekten.\n",
    "```\n",
    "\n",
    "**Beispiel:** Frau Maier, Herr Müller und Herr Schmidt arbeiten in der (streng geheimen) Abteilung 42. Alle Mitarbeiter der Abteilung sind in einer (ebenfalls streng geheimen) Liste gespeichert. Es ergibt sich folgendes Objektdiagramm:\n",
    "\n",
    "```{figure} bilder/OD_Mitarbeiter_VerketteteListe.svg\n",
    "---\n",
    "width: 100%\n",
    "name: fig_od_mitarbeiter_verketteteliste\n",
    "align: center\n",
    "---\n",
    "Objektdiagramm: Liste von Mitarbeitern der geheimnisvollen Abteilung 42\n",
    "```\n",
    "\n"
   ]
  },
  {
   "cell_type": "markdown",
   "metadata": {},
   "source": [
    "## Verkettete Listen in Python programmieren\n",
    "\n",
    "Wir entwickeln zuerst die Klasse *Knoten* und eine aufs Wesentliche reduzierte Klasse *VerketteteListe*. In den späteren Übungen erweitern wir *VerketteteListe* um immer mehr Methoden.   \n",
    "\n",
    "**Achtung: Der untenstehende Code führt zu einer Endlosschleife, denn er enthält einen (fiesen) Fehler in der Methode `einfuegen_vorne`. Findest du ihn?**"
   ]
  },
  {
   "cell_type": "code",
   "execution_count": null,
   "metadata": {},
   "outputs": [],
   "source": [
    "from __future__ import annotations\n",
    "\n",
    "class Knoten:\n",
    "    def __init__(self, inhalt):\n",
    "        \"\"\" Konstruktor für die Klasse Knoten: speichert den Inhalt und legt\n",
    "        eine Referenz auf den nächsten Knoten an. \"\"\"\n",
    "        self.inhalt = inhalt   # keine Typ-Angabe: inhalt kann beliebig sein\n",
    "        self.naechster: Knoten|None = None    # Typ-Annotation: naechster ist ein Knoten oder None\n",
    "\n",
    "    def __str__(self) -> str:\n",
    "        return str(self.inhalt)\n",
    "    \n",
    "    \n",
    "class VerketteteListe:\n",
    "    def __init__(self):\n",
    "        self.erster: Knoten|None = None   # Der erste Knoten in der Liste (Listenkopf)    \n",
    "\n",
    "    def __str__(self) -> str:\n",
    "        \"\"\" Gibt die Liste als Zeichenkette, getrennt durch Pfeile, zurück. \"\"\"\n",
    "        inhalte = []\n",
    "        knoten = self.erster\n",
    "        while knoten is not None:\n",
    "            inhalte.append(knoten.inhalt)\n",
    "            knoten = knoten.naechster\n",
    "        return \" -> \".join(inhalte)\n",
    "\n",
    "    def einfuegen_vorne(self, pInhalt) -> None:\n",
    "        \"\"\"Fügt einen neuen Knoten mit pInhalt am Anfang der Liste ein.\"\"\"\n",
    "        neu = Knoten(pInhalt)   # \"Verpacke\" den Inhalt in einen Knoten\n",
    "        self.erster = neu  # Der neue Knoten ist ab jetzt der Listenkopf\n",
    "        neu.naechster = self.erster  # Nachfolger des neuen Knotens ist der bisherige Listenkopf\n",
    "\n",
    "\n",
    "print(\"Achtung: Dieser Code enthält einen Fehler in der Methode einfuegen_vorne. Findest du ihn?\")\n",
    "liste_bsp1 = VerketteteListe()\n",
    "liste_bsp1.einfuegen_vorne(\"Anna\")\n",
    "liste_bsp1.einfuegen_vorne(\"Bibi\")\n",
    "liste_bsp1.einfuegen_vorne(\"Coco\")\n",
    "liste_bsp1.einfuegen_vorne(\"Dina\")\n",
    "print(liste_bsp1)"
   ]
  },
  {
   "cell_type": "markdown",
   "metadata": {},
   "source": [
    "Die korrekte Lösung erhältst du, wenn du dieses Parsons-Problem löst:"
   ]
  },
  {
   "cell_type": "code",
   "execution_count": 13,
   "metadata": {
    "tags": [
     "remove-input"
    ]
   },
   "outputs": [
    {
     "data": {
      "text/html": [
       "\n",
       "        <iframe\n",
       "            width=\"1000\"\n",
       "            height=\"400\"\n",
       "            src=\"parsonsproblems/parsons2allgemein.html?problem=CmRlZiBlaW5mdWVnZW5fdm9ybmUoc2VsZiwgcEluaGFsdCk6CiAgICBuZXUgPSBLbm90ZW4ocEluaGFsdCkgICAjICJWZXJwYWNrZSIgZGVuIEluaGFsdCBpbiBlaW5lbiBLbm90ZW4KICAgIG5ldS5uYWVjaHN0ZXIgPSBzZWxmLmVyc3RlciAgIyBOYWNoZm9sZ2VyIGRlcyBuZXVlbiBLbm90ZW5zIGlzdCBkZXIgYmlzaGVyaWdlIExpc3RlbmtvcGYKICAgIHNlbGYuZXJzdGVyID0gbmV1ICAjIERlciBuZXVlIEtub3RlbiBpc3QgYWIgamV0enQgZGVyIExpc3RlbmtvcGYK\"\n",
       "            frameborder=\"0\"\n",
       "            allowfullscreen\n",
       "            \n",
       "        ></iframe>\n",
       "        "
      ],
      "text/plain": [
       "<IPython.lib.display.IFrame at 0x1187e4a50>"
      ]
     },
     "execution_count": 13,
     "metadata": {},
     "output_type": "execute_result"
    }
   ],
   "source": [
    "problem_str = \"\"\"\n",
    "def einfuegen_vorne(self, pInhalt):\n",
    "    neu = Knoten(pInhalt)   # \"Verpacke\" den Inhalt in einen Knoten\n",
    "    neu.naechster = self.erster  # Nachfolger des neuen Knotens ist der bisherige Listenkopf\n",
    "    self.erster = neu  # Der neue Knoten ist ab jetzt der Listenkopf\n",
    "\"\"\"\n",
    "\n",
    "from IPython.display import IFrame\n",
    "import base64\n",
    "import urllib.parse\n",
    "\n",
    "encoded_problem = base64.b64encode(bytes(problem_str, 'utf-8')).decode('utf-8')\n",
    "encoded_problem = encoded_problem.rstrip(\"=\")  # remove trailing '=' \n",
    "safe_string = urllib.parse.quote_plus(encoded_problem)\n",
    "url_str = f\"parsonsproblems/parsons2allgemein.html\"\n",
    "IFrame(url_str, width=1000, height=400, problem=safe_string)"
   ]
  },
  {
   "cell_type": "markdown",
   "metadata": {},
   "source": [
    "Wenn du verstanden hast, warum die Lösung so - und nur so! - funktioniert, bist du bereit, die weiteren Operationen von Listen zu implementieren!"
   ]
  }
 ],
 "metadata": {
  "kernelspec": {
   "display_name": "Python 3",
   "language": "python",
   "name": "python3"
  },
  "language_info": {
   "codemirror_mode": {
    "name": "ipython",
    "version": 3
   },
   "file_extension": ".py",
   "mimetype": "text/x-python",
   "name": "python",
   "nbconvert_exporter": "python",
   "pygments_lexer": "ipython3",
   "version": "3.12.3"
  }
 },
 "nbformat": 4,
 "nbformat_minor": 2
}
