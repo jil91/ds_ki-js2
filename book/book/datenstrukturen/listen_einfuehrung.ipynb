{
 "cells": [
  {
   "cell_type": "markdown",
   "metadata": {},
   "source": [
    "# Listen"
   ]
  },
  {
   "cell_type": "markdown",
   "metadata": {},
   "source": [
    "## Der abstrakte Datentyp *Liste*\n",
    "Listen sind in der Informatik allgegenwärtig. Man nutzt sie immer, wenn für die Verarbeitung von Daten wichtig ist, in welcher *Reihenfolge* sie vorliegen bzw. an welcher genauen *Position* (*Index*) ein bestimmter Wert steht. \n",
    "\n",
    "Die wichtigsten Operationen von Listen sind in {numref}`fig_kd_liste_adt_interface` aufge*list*et 😉:\n",
    "\n",
    "```{figure} bilder/kd_liste_adt_interface_fosa.svg\n",
    "---\n",
    "width: 30%\n",
    "name: fig_kd_liste_adt_interface\n",
    "align: center\n",
    "---\n",
    "Der abstrakte Datentyp *Liste* als UML-Klassendiagramm (FoSa 4.3.2)\n",
    "```\n",
    "\n",
    "Als *Benutzer* des Listen-Typs wollen wir gar nicht unbedingt wissen, wie eine Liste intern implementiert ist; es reicht, dass sie sich garantiert so verhält, wie wir es erwarten. Z.B. erwarten wir, dass nach den Operationen\n",
    "\n",
    "```\n",
    "namen = [\"Zora\", \"Xenia\", \"Willi\"]\n",
    "namen.anhaengen(\"Vito\")\n",
    "namen.einfuegen(1, \"Yannick\")\n",
    "namen.entfernen(\"Xenia\")\n",
    "namen.einfuegenVorne(\"Alex\")\n",
    "\n",
    "```\n",
    "\n",
    "die Liste so aussieht:\n",
    "\n",
    "```{admonition} Resultierende Liste (Welches Ergebnis erwartest du?)\n",
    ":class: tip, dropdown\n",
    "`['Alex', 'Zora', 'Yannick', 'Willi', 'Vito']`\n",
    "```\n",
    "\n",
    "### Listen in Python\n",
    "Auch bei den Datentypen, die von einer Programmiersprache oder eine Bibliothek bereitgestellt werden, interessiert uns v.a., was wir damit tun können, nicht wie sie intern implementiert sind. Wir wissen z.B., dass der Datentyp `list` in Python Methoden wie `append`, `insert`, `remove`, `index` usw. bereitstellt. Damit können wir das Pseudocode-Beispiel von oben nachbauen.\n"
   ]
  },
  {
   "cell_type": "code",
   "execution_count": null,
   "metadata": {},
   "outputs": [],
   "source": [
    "# AUFGABE: Setze das obige Pseudocode-Beispiel in Python um, so dass\n",
    "# die korrekte Ausgabe erzeugt wird.\n",
    "\n",
    "namen = [\"Zora\", \"Xenia\", \"Willi\"]\n",
    "# HIER ERGÄNZEN\n",
    "\n",
    "print(namen)  # Erwartete Ausgabe: ['Alex', 'Zora', 'Yannick', 'Willi', 'Vito']"
   ]
  },
  {
   "cell_type": "markdown",
   "metadata": {},
   "source": [
    "Lösung:"
   ]
  },
  {
   "cell_type": "code",
   "execution_count": 3,
   "metadata": {
    "tags": [
     "hide-cell"
    ]
   },
   "outputs": [
    {
     "name": "stdout",
     "output_type": "stream",
     "text": [
      "['Alex', 'Zora', 'Yannick', 'Willi', 'Vito']\n"
     ]
    }
   ],
   "source": [
    "# LÖSUNG: Setze das obige Pseudocode-Beispiel in Python um, so dass\n",
    "# die korrekte Ausgabe erzeugt wird.\n",
    "namen = [\"Zora\", \"Xenia\", \"Willi\"]\n",
    "namen.append(\"Vito\")\n",
    "namen.insert(1, \"Yannick\")\n",
    "namen.remove(\"Xenia\")\n",
    "namen.insert(0, \"Alex\")\n",
    "\n",
    "print(namen)  # Erwartete Ausgabe: ['Alex', 'Zora', 'Yannick', 'Willi', 'Vito']"
   ]
  }
 ],
 "metadata": {
  "kernelspec": {
   "display_name": "base",
   "language": "python",
   "name": "python3"
  },
  "language_info": {
   "codemirror_mode": {
    "name": "ipython",
    "version": 3
   },
   "file_extension": ".py",
   "mimetype": "text/x-python",
   "name": "python",
   "nbconvert_exporter": "python",
   "pygments_lexer": "ipython3",
   "version": "3.12.2"
  }
 },
 "nbformat": 4,
 "nbformat_minor": 2
}
