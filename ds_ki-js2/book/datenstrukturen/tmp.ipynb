{
 "cells": [
  {
   "cell_type": "code",
   "execution_count": 5,
   "metadata": {},
   "outputs": [
    {
     "name": "stdout",
     "output_type": "stream",
     "text": [
      "Birne\n",
      "Apfel\n",
      "Erdbeere\n",
      "Banane\n",
      "Kirsche\n"
     ]
    }
   ],
   "source": [
    "class Stapel:\n",
    "\n",
    "    class Knoten:\n",
    "        def __init__(self, inhalt, naechster=None):  # Wenn für naechster kein Wert angegeben wird, ist er None (Standardwert)\n",
    "            self.inhalt = inhalt\n",
    "            self.naechster = naechster\n",
    "\n",
    "    def __init__(self):\n",
    "        self.anfang: Stapel.Knoten|None = None\n",
    "\n",
    "    def push(self, daten):\n",
    "        \"\"\"legt ein neues Element auf den Stapel\"\"\"\n",
    "        neuer_knoten = Stapel.Knoten(daten, self.anfang)  # Der neue Knoten zeigt auf den bisherigen Anfang\n",
    "        self.anfang = neuer_knoten  # Der neue Knoten ist jetzt der Anfang\n",
    "\n",
    "    def pop(self):\n",
    "        \"\"\"entfernt das oberste Element vom Stapel und gibt es zurück\"\"\"\n",
    "        if self.anfang is None:\n",
    "            raise IndexError(\"Pop-Operation auf leerem Stapel nicht möglich\")\n",
    "        inhalt = self.anfang.inhalt  # Inhalt des ersten Knotens merken\n",
    "        self.anfang = self.anfang.naechster  # Anfang auf den nächsten Knoten setzen\n",
    "        return inhalt\n",
    "\n",
    "    def top(self):\n",
    "        \"\"\"gibt das oberste Element des Stapels zurück, ohne es zu entfernen\"\"\"\n",
    "        if self.anfang is None:\n",
    "            raise IndexError(\"Top-Operation auf leerem Stapel nicht möglich\")\n",
    "        return self.anfang.inhalt\n",
    "\n",
    "    def ist_leer(self):\n",
    "        \"\"\"gibt True zurück, wenn der Stapel leer ist, sonst False\"\"\"\n",
    "        return self.anfang is None  # Kurzform für if self.anfang is None: return True else: return False\n",
    "    \n",
    "    def anzahl_elemente(self):\n",
    "        \"\"\"gibt die Anzahl der Elemente auf dem Stapel zurück\"\"\"\n",
    "        # ACHTUNG: Diese Methode ist ineffizient, da sie die gesamte interne Liste durchlaufen muss!\n",
    "        anzahl = 0\n",
    "        knoten = self.anfang\n",
    "        while knoten is not None:\n",
    "            anzahl += 1\n",
    "            knoten = knoten.naechster\n",
    "        return anzahl\n",
    "    \n",
    "# Test\n",
    "s1 = Stapel()\n",
    "s2 = Stapel()\n",
    "\n",
    "s1.push(\"Birne\")\n",
    "s1.push(\"Apfel\")\n",
    "\n",
    "s2.push(\"Kirsche\")\n",
    "s2.push(\"Banane\")\n",
    "s2.push(\"Erdbeere\")\n",
    "\n",
    "while not s1.ist_leer():\n",
    "    t = s1.pop()\n",
    "    s2.push(t)\n",
    "\n",
    "while not s2.ist_leer():\n",
    "    print(s2.pop())  \n"
   ]
  }
 ],
 "metadata": {
  "kernelspec": {
   "display_name": "Python 3",
   "language": "python",
   "name": "python3"
  },
  "language_info": {
   "codemirror_mode": {
    "name": "ipython",
    "version": 3
   },
   "file_extension": ".py",
   "mimetype": "text/x-python",
   "name": "python",
   "nbconvert_exporter": "python",
   "pygments_lexer": "ipython3",
   "version": "3.12.3"
  }
 },
 "nbformat": 4,
 "nbformat_minor": 2
}
