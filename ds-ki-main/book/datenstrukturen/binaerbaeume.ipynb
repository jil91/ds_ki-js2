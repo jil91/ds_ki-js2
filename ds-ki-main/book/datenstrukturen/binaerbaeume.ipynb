{
 "cells": [
  {
   "cell_type": "markdown",
   "metadata": {},
   "source": [
    "# Binärbäume\n",
    "\n",
    "## Einführung\n",
    "Im vorigen Kapitel haben wir allgemeine Bäume mit beliebig vielen Kindern betrachtet. In diesem Kapitel schauen wir uns den Spezialfall **Binärbaum** genauer an. Zur Erinnerung:\n",
    "\n",
    "```{admonition} Definition\n",
    ":class: hint\n",
    "Ein **Binärbaum** ist ein Baum, bei dem jeder Knoten **maximal zwei** Nachfolger hat.\n",
    "```\n",
    "\n",
    "Wie du schon in {numref}`fig_baum_begriffe` gesehen hast:\n",
    "\n",
    "```{important}\n",
    "Die Teile eines Baums sind selbst wieder Bäume (**Teilbäume**).\n",
    "```\n",
    "\n",
    "Z.B. ist in der folgenden {numref}`fig_saeugetiere15` \n",
    "- der Knoten \"Tier\" die Wurzel des gesamten Baums, aber auch\n",
    "- der Knoten \"Säugetier\" die Wurzel des **linken Teilbaums** und\n",
    "- der Knoten \"Fisch\" die Wurzel des **rechten Teilbaums**.\n",
    "\n",
    "```{figure} bilder/baeume/säugetiere_15knoten.svg\n",
    "---\n",
    "width: 95%\n",
    "name: fig_saeugetiere15\n",
    "align: center\n",
    "---\n",
    "Binärbaum mit verschiedenen Säugetier-Kategorien\n",
    "```\n"
   ]
  },
  {
   "cell_type": "markdown",
   "metadata": {},
   "source": [
    "## Aufgaben\n",
    "Betrachte den Baum in {numref}`fig_aufgabe_binbaum_zahlen` und beantworte dann die folgenden Fragen:\n",
    "\n",
    "```{figure} bilder/baeume/aufgabe_binbaum_zahlen.svg\n",
    "---\n",
    "width: 70%\n",
    "name: fig_aufgabe_binbaum_zahlen\n",
    "align: center\n",
    "---\n",
    "Ein Binärbaum voller Zahlen\n",
    "```\n",
    "\n",
    "```{admonition} Handelt es sich bei hier um einen binären Suchbaum?\n",
    ":class: tip, dropdown\n",
    "Nein, es ist zwar ein binärer Baum, aber kein binärer *Such*baum.\n",
    "```\n",
    "\n",
    "```{admonition} Welche Knoten (inkl. Blätter) enthält der rechte Teilbaum des Knotens 1?\n",
    ":class: tip, dropdown\n",
    "6, 9, 10, 11\n",
    "```\n",
    "\n",
    "```{admonition} Welche Knoten haben keinen rechten Teilbaum?\n",
    ":class: tip, dropdown\n",
    "Die inneren Knoten 2 und 9 (und natürlich alle Blätter, d.h. 5, 7, 8, 10, 11)\n",
    "```\n",
    "\n",
    "```{admonition} Hat Knoten 9 einen linken oder einen rechten Teilbaum?\n",
    ":class: tip, dropdown\n",
    "Knoten 9 hat einen linken Teilbaum.\n",
    "```\n",
    "\n",
    "```{admonition} Welche Knoten (inkl. Blätter) hat der linke Teilbaum des Knotens 2?\n",
    ":class: tip, dropdown\n",
    "4, 7, 8\n",
    "```\n"
   ]
  },
  {
   "cell_type": "markdown",
   "metadata": {},
   "source": [
    "## Umsetzung in Python\n",
    "Aber wie programmiert man einen Binärbaum? Die Abbildungen in den vorigen Abschnitten sehen ja schon ziemlich furchteinflößend aus, nicht wahr? \n",
    "\n",
    "Keine Sorge, so schlimm ist es nicht, denn tatsächlich besteht jeder noch so riesige Baum aus den immergleichen \"Bausteinen\", den *Knoten*. Und die kennen wir ja eigentlich schon von den verketteten Listen.\n",
    "\n",
    "```{margin}\n",
    "Ähnlich wie bei verketteten Listen werden wir später eine Klasse `Binärbaum` einführen, so dass Nutzer nicht mehr direkt mit `Knoten` arbeiten müssen. Der `Binärbaum` ist dann der *abstrakte Datentyp (ADT)*, hinter dem sich die interne Umsetzung \"verstecken\" kann. Zu Anfang (insb. auch fürs Abi und evtl. ein Studium!) ist es aber wichtig, dass du verstehst, was bei Bäumen hinter den Kulissen passiert - und dafür ist die Klasse `Knoten` sozusagen die atomare Einheit!\n",
    "```\n",
    "\n",
    "### Knoten\n",
    "```{figure} bilder/baeume/knoten9.svg\n",
    "---\n",
    "width: 25%\n",
    "name: fig_knoten9\n",
    "align: center\n",
    "---\n",
    "Knoten mit zwei ausgehenden Kanten\n",
    "```\n",
    "\n",
    "Der **Knoten** ist der zentrale Baustein für Bäume (und ähnliche Strukturen, insb. [*Graphen*](https://de.wikipedia.org/wiki/Graph_(Graphentheorie))).  Ein Knoten speichert\n",
    "\n",
    "- einerseits einen beliebigen **Inhalt**, z.B. eine Zahl, einen Text, einen Ort, den Zustand eines Spielbretts, eine Verzweigungsbedingung (in einem Entscheidungsbaum) usw.\n",
    "\n",
    "- und anderseits **Kanten** zu weiteren Knoten. Diese stehen z.B. für Straßen zwischen Orten, Spielzüge (die von einem Spielzustand in einen anderen führen) oder irgendeine andere *Beziehung* zwischen dem jeweiligen Knoten und seinen *Kindknoten*.\n",
    "\n",
    "Spezialfall Binärbaum: Da ein Binärbaum (maximal) zwei Kindknoten hat, einen linken und einen rechten, können wir eine einfache Knoten-Klasse so definieren:"
   ]
  },
  {
   "cell_type": "code",
   "execution_count": 19,
   "metadata": {
    "tags": [
     "remove-cell"
    ]
   },
   "outputs": [],
   "source": [
    "# wird im Skript ausgeblendet\n",
    "from __future__ import annotations"
   ]
  },
  {
   "cell_type": "code",
   "execution_count": 20,
   "metadata": {},
   "outputs": [],
   "source": [
    "class Knoten:\n",
    "    def __init__(self, inhalt):\n",
    "        self.inhalt = inhalt  # Ein beliebiger Inhalt (d.h. eine Zahl, ein String, ein anderes Objekt, ...)\n",
    "        self.linker_teilbaum: Knoten|None = None    # Verweis auf den Knoten, der als Wurzel des linken Teilbaums dient\n",
    "        self.rechter_teilbaum: Knoten|None = None   # Verweis auf den Knoten, der als Wurzel des rechten Teilbaums dient\n",
    "\n",
    "    def __str__(self):\n",
    "        \"\"\"Knoten in Textform ausgeben\"\"\"\n",
    "        return f\"Knoten({self.inhalt}, L:{self.linker_teilbaum}, R:{self.rechter_teilbaum})\""
   ]
  },
  {
   "cell_type": "markdown",
   "metadata": {},
   "source": [
    "Das sieht doch wirklich recht ähnlich aus wie bei einer verketteten Liste... nur dass wir statt eines einzigen Verweis `naechster` auf den Nachfolgeknoten in der Liste jetzt Verweise auf *zwei* Nachfolgerknoten haben, `linker_teilbaum` und `rechter_teilbaum`.\n",
    "\n",
    "Um zu verstehen, wie aus einer so einfachen Datenstruktur ein komplexes Gebilde wie der Baum aus \n",
    "{numref}`fig_saeugetiere_7tiere` entstehen kann, bauen wir dieses Beispiel einfach in Python nach:\n",
    "\n",
    "```{figure} bilder/baeume/säugetiere_7tiere.svg\n",
    "---\n",
    "name: fig_saeugetiere_7tiere\n",
    "width: 70%\n",
    "align: center\n",
    "---\n",
    "Dieser Baum enthält zahlreiche Knoten (naja, sieben)\n",
    "```"
   ]
  },
  {
   "cell_type": "code",
   "execution_count": 21,
   "metadata": {},
   "outputs": [
    {
     "name": "stdout",
     "output_type": "stream",
     "text": [
      "Knoten(Säugetier, L:Knoten(Hund, L:Knoten(Collie, L:None, R:None), R:Knoten(Dackel, L:None, R:None)), R:Knoten(Affe, L:Knoten(Schimpanse, L:None, R:None), R:Knoten(Orang-Utan, L:None, R:None)))\n"
     ]
    }
   ],
   "source": [
    "# Wir legen den ersten Knoten an und speichern ihn in der Variablen wurzel\n",
    "wurzel = Knoten(\"Säugetier\")\n",
    "# Wir legen weitere Knoten an\n",
    "k2 = Knoten(\"Hund\")\n",
    "k3 = Knoten(\"Collie\")\n",
    "k4 = Knoten(\"Dackel\")\n",
    "k5 = Knoten(\"Affe\")\n",
    "k6 = Knoten(\"Schimpanse\")\n",
    "k7 = Knoten(\"Orang-Utan\")\n",
    "# Das ist die entscheidende Stelle: Wir verknüpfen die Knoten miteinander\n",
    "wurzel.linker_teilbaum = k2  # k2 (Hund) wird als linker Teilbaum an wurzel (Säugetier) angehängt \n",
    "k2.linker_teilbaum = k3  # k3 (Collie) wird als linker Teilbaum an k2 (Hund) angehängt\n",
    "k2.rechter_teilbaum = k4  # usw.\n",
    "wurzel.rechter_teilbaum = k5\n",
    "k5.linker_teilbaum = k6\n",
    "k5.rechter_teilbaum = k7\n",
    "\n",
    "# Ausgabe der Struktur (Achtung: Das wird eine lange, unübersichtliche Textzeile)\n",
    "print(wurzel)"
   ]
  },
  {
   "cell_type": "markdown",
   "metadata": {},
   "source": [
    "## Mit Bäumen Sachen machen\n",
    "Natürlich wollen wir Bäume nicht nur erstellen, sondern mit ihnen arbeiten. Zum Beispiel wollen wir\n",
    "- alle Inhalte des Baums ausgeben\n",
    "- die Knoten (oder Kanten oder Blätter) eines Baums zählen\n",
    "- etwas (schnell) in einem Baum finden\n",
    "- alle Inhalte eines Baums miteinander verrechnen (wenn es sich um Zahlen handeln)\n",
    "- oder die Inhalte eines Baums auf eine andere Art zu etwas Neuem kombinieren (z.B. so wie bei dem \"Rechenbaum\" aus {numref}`fig_baum_term`) \n",
    "\n",
    "Für alle diese Aufgaben benötigen wir **Rekursion**. Was das ist, erfährst du jetzt. Wir beginnen mit der Frage, was es eigentlich bedeutet, die in einem Baum gespeicherten Inhalte *auszugeben*."
   ]
  },
  {
   "cell_type": "markdown",
   "metadata": {},
   "source": [
    "### Alle Inhalte eines Baums ausgeben\n",
    "\n",
    "Bei einer verketteten Liste ist die *Reihenfolge* der Elemente klar. Man gibt alle gespeicherten Werte aus, indem man beim ersten Knoten (dem Listenkopf) startet und sich dann von Nachfolger zu Nachfolger bewegt. Dabei gibt man jeweils den Wert im aktuellen Knoten aus. \n",
    "\n",
    "Aber wie ist das bei Bäumen? Gibt es auch da eine \"natürliche\" Reihenfolge? Nein! Um das zu verstehen, betrachten wir das folgende Beispiel.\n",
    "\n",
    "```{margin}\n",
    "Warum enthält der Baum lauter Symbole aus einem [einarmigen Banditen](https://en.wikipedia.org/wiki/Slot_machine#/media/File:Jackpot_6000.jpg)?  \n",
    "Der Grund dafür ist... ach, eigentlich gibt es keinen, außer dass das doch ganz hübsch aussieht, oder nicht? Und vielleicht, weil diese Symbole im Automaten immer wieder in anderen Reihenfolgen erscheinen - genau wie bei uns auch gleich.\n",
    "```\n",
    "\n",
    "```{figure} bilder/baeume/baum3einarmiger_bandit.svg\n",
    "---\n",
    "width: 25%\n",
    "name: fig_baum3einarmiger_bandit\n",
    "align: center\n",
    "---\n",
    "Ein Baum mit drei Knoten. In welcher Reihenfolge würdest du sie ausgeben?\n",
    "```\n",
    "\n",
    "Dieser Baum hat drei Knoten. Will man die drei darin gespeicherten Werte ausgeben, gibt es mehrere mögliche Reihenfolgen:\n",
    "\n",
    "- 🍒 🍋 🔔 : Hier wurde die Wurzel **vor** den Kindern ausgegeben (**Preorder**-Reihenfolge). \n",
    "- 🍋 🔔 🍒 : Hier wurde die Wurzel **nach** den Kindern ausgegeben (**Postorder**-Reihenfolge).\n",
    "- 🍋 🍒 🔔 : Hier wurde die Wurzel **zwischen** den Kindern ausgegeben (**Inorder**-Reihenfolge).\n",
    "- (Theoretisch ergeben sich weitere drei Möglichkeiten, wenn man die Kinderknoten von rechts nach links statt von links nach rechts durchläuft. In der Praxis kommt das aber nur selten vor und wir ignorieren es hier deshalb einfach.)\n",
    "\n",
    "Jede dieser Reihenfolgen kann bei bestimmten Anwendungen sinnvoll sein. Es wird allerdings leider etwas komplizierter, wenn der Baum größer ist...\n",
    "\n",
    "```{figure} bilder/baeume/baum7buchstaben.svg\n",
    "---\n",
    "width: 50%\n",
    "name: fig_baum7buchstaben\n",
    "align: center\n",
    "---\n",
    "Ein Baum mit sieben Knoten. \n",
    "```\n",
    "\n",
    "Was bedeuten *Preorder*, *Postorder* und *Inorder* in diesem Fall?\n",
    "\n",
    "- **Preorder:** Die Wurzel wird **vor** den beiden **Teilbäumen** ausgegeben, d.h. zuerst wird die Wurzel, dann der linke Teilbaum und zum Schluss der rechte Teilbaum ausgegeben - und zwar beide **Teilbäume ebenfalls in Preorder-Reihenfolge!**\n",
    "- **Postorder:** Die Wurzel wird **nach** den beiden **Teilbäumen** ausgegeben. Auch hier werden die **Teilbäume ebenfalls in Postorder-Reihenfolge** ausgegeben.\n",
    "- **Inorder:** Die Wurzel wird **zwischen** den beiden **Teilbäumen** ausgegeben, d.h. nachdem der linke und bevor der rechte Teilbaum ausgegeben wurde. Natürlich werden auch hier die beiden **Teilbäume - wie der Gesamtbaum - in Inorder-Reihenfolge durchlaufen** und ausgegeben.\n",
    "\n",
    "```{figure} bilder/baeume/teilbäume.png\n",
    "---\n",
    "width: 50%\n",
    "name: fig_teilbäume\n",
    "align: center\n",
    "---\n",
    "Der Gesamtbaum hat 7 Knoten. Er besteht aus einer Wurzel und zwei Teilbäumen mit je 3 Knoten.\n",
    "```\n",
    "\n",
    "Für unseren Beispiel-Baum bedeutet das konkret:\n",
    "\n",
    "- Preorder: Zuerst wird die Wurzel des Gesamtbaums (A) ausgegeben, dann \"steigt\" man in den linken Teilbaum \n",
    "  und wiederholt für diesen das Verfahren: \n",
    "  - Zuerst gibt man die Wurzel aus (B), dann \"steigt\" man in den linken Teilbaum und wiederholt für diesen das Verfahren:   \n",
    "    - Zuerst gibt man die Wurzel aus (D) - aber dann gibt es keinen linken Teilbaum mehr und auch keinen rechten. Also kehrt man auf die nächsthöhere Ebene zurück (zu B) und kann nun dessen rechten Teilbaum ausgeben: \n",
    "    - Zuerst die Wurzel (E)... und dann gibt es (zum Glück) auch hier keine Kinder mehr. Damit ist der gesamte Teilbaum mit der Wurzel B ausgegeben. \n",
    "  - Man kehrt zurück zu A und kann endlich dessen rechten Teilbaum ausgeben...\n",
    "\n",
    "  Insgesamt ergibt sich als **Preorder-Reihenfolge: A, B, D, E, C, F, G**\n",
    "\n",
    "- Postorder: Hier werden die Wurzel erst *nach* den Teilbäumen ausgegeben. D.h. bevor A ausgegeben werden kann, \n",
    "  muss man zuerst in den linken Teilbaum steigen. \n",
    "  - Dessen Wurzel (B) darf aber auch erst ausgegeben werden, wenn man mit Bs Teilbäumen fertig ist. \n",
    "    - Da diese (D und E) aber keine Kinder haben, werden sie tatsächlich ausgegeben. \n",
    "    - Danach die aktuelle Wurzel, also B. \n",
    "  - Es geht zurück zu A - das aber immer noch nicht ausgegeben werden darf, weil zuerst sein rechter Teilbaum abgearbeitet werden muss. \n",
    "  - Dessen Wurzel (C) darf aber auch erst ausgegeben werden, wenn man mit Cs Teilbäumen fertig ist. \n",
    "    - Da diese (F und G) aber keine Kinder haben, werden sie tatsächlich ausgegeben. \n",
    "    - Danach die aktuelle Wurzel, also C.\n",
    "  - Nun sind wir mit beiden Teilbäumen von A fertig und können ganz zum Schluss auch A ausgeben!\n",
    "\n",
    "  Insgesamt ergibt sich als **Postorder-Reihenfolge: D, E, B, F, G, C, A**\n",
    "\n",
    "- Inorder: Hier wird erst der linke Teilbaum, dann die Wurzel, dann der rechte Teilbaum abgearbeitet.\n",
    "  - Wir steigen also zuerst in den linken Teilbaum mit der Wurzel B. Bevor diese ausgegeben werden kann, muss aber ihr linker Teilbaum abgearbeitet worden sein, also\n",
    "    - steigen wir nach links hinunter zum Teilbaum mit der Wurzel D. Da dies ein Blattknoten ist, können wir ihn ausgeben.\n",
    "  - Dann geht es zurück zur Wurzel dieses Teilbaums, also B, den wir ausgeben...\n",
    "    - und hinunter in den rechten Teilbaum mit der Wurzel E. Da dies ein Blattknoten ist, können wir ihn ausgeben.\n",
    "  - Nun haben wir den gesamten Teilbaum unter B abgearbeitet. Das war der linke Teilbaum von A, so dass wir in der Inorder-Reihenfolge jetzt die Wurzel (A) ausgeben, bevor wir...\n",
    "    - in den rechten Teilbaum (C) hinabsteigen, den wir auf dieselbe Weise ausgeben, also: links (F) vor Wurzel (C) vor rechts (G)\n",
    "\n",
    "  Insgesamt ergibt sich als **Inorder-Reihenfolge: D, B, E, A, F, C, G**\n"
   ]
  },
  {
   "cell_type": "markdown",
   "metadata": {},
   "source": [
    "## Aufgaben\n",
    "### Aufgaben zur Preorder-, Inorder- und Postorder-Traversierung\n",
    "Aufgabe: Gib für die folgenden Bäume jeweils alle Elemente in\n",
    "- Preorder-\n",
    "- Postorder- und\n",
    "- Inorder-Reihenfolge \n",
    "\n",
    "an.\n",
    "\n",
    "a)\n",
    "```{figure} bilder/baeume/aufgabe_binbaum_zahlen.svg\n",
    "---\n",
    "width: 60%\n",
    "align: center\n",
    "---\n",
    "```\n",
    "```{admonition} Lösung:\n",
    ":class: tip, dropdown\n",
    "- Preorder: 3, 2, 4, 7, 8, 1, 5, 6, 9, 11, 10\n",
    "- Postorder: 7, 8, 4, 2, 5, 11, 9, 10, 6, 1, 3\n",
    "- Inorder:  7, 4, 8, 2, 3, 5, 1, 11, 9, 6, 10\n",
    "```\n",
    "\n",
    "b)\n",
    "```{figure} bilder/baeume/aufgabe_binbaum_suchbaum.svg\n",
    "---\n",
    "width: 70%\n",
    "align: center\n",
    "---\n",
    "```\n",
    "```{admonition} Lösung:\n",
    ":class: tip, dropdown\n",
    "- Preorder: 58, 25, 24, 13, 12, 19, 39, 72, 60, 66, 61, 69, 76, 81, 79\n",
    "- Postorder: 12, 19, 13, 24, 39, 25, 61, 69, 66, 60, 79, 81, 76, 72, 58\n",
    "- Inorder:  12, 13, 19, 24, 25, 39, 58, 60, 61, 66, 69, 72, 76, 79, 81\n",
    "```\n",
    "\n",
    "c)\n",
    "```{figure} bilder/baeume/aufgabe_binbaum_text.svg\n",
    "---\n",
    "width: 70%\n",
    "align: center\n",
    "---\n",
    "```\n",
    "```{admonition} Lösung:\n",
    ":class: tip, dropdown\n",
    "- Preorder: !, D, R, I, H, I, S, E, R, P, S, U, E\n",
    "- Postorder: I, H, R, S, E, I, D, S, U, P, E, R, !\n",
    "- Inorder:  I, R, H, D, S, I, E, !, S, P, U, R, E\n",
    "```\n",
    "\n",
    "Hast du alle Aufgaben gelöst? Dann **herzlichen Glückwunsch!!!**[^easteregg]\n",
    "\n",
    "[^easteregg]: Aber hast du auch das *easter egg* gefunden?"
   ]
  },
  {
   "cell_type": "markdown",
   "metadata": {},
   "source": [
    "## Umsetzung in (Pseudo-)Code. Rekursion\n",
    "\n",
    "```{figure} bilder/baeume/teilbäume.png\n",
    "---\n",
    "width: 50%\n",
    "align: right\n",
    "---\n",
    "\n",
    "```\n",
    "Diesen Baum haben vorhin bereits in Preorder-, Postorder- und in Inorder-Reihenfolge ausgegeben, allerdings nur *von Hand*. Wie können wir das programmieren? \n",
    "\n",
    "Für (z.B.) **Preorder** kann man den Algorithmus intuitiv so beschreiben:\n",
    "\n",
    "```{admonition} OPERATION *Baum *B* in Preorder-Reihenfolge ausgeben*\n",
    ":class: definition\n",
    "Um einen (Teil-)Baum *B* in Preorder-Reihenfolge auszugeben\n",
    "- gib zuerst den Inhalt des Wurzelknotens von *B* aus\n",
    "- dann gib ***auf dieselbe Weise*** den linken Teilbaum von *B* aus (falls dieser überhaupt existiert)\n",
    "- dann gib ***auf dieselbe Weise*** den rechten Teilbaum von *B* aus (falls dieser überhaupt existiert)\n",
    "```\n",
    "\n",
    "```{margin}\n",
    "[**Rekursion**](https://en.wikipedia.org/wiki/Recursion_(computer_science)) in ein Programmierkonzept, bei der eine Funktion sich *selbst* aufruft (aber mit veränderten Argumenten), um ein Problem in immer kleinere, leichter lösbare Teilaufgaben zu zerlegen. Wichtig dabei ist eine Abbruchbedingung, weil sich das rekursive Programm sonst theoretisch unendlich oft selbst aufrufen würde.\n",
    "```\n",
    "\n",
    "Entscheidend ist hier das hervorgehobene \"auf dieselbe Weise\": Wir delegieren eine Teilaufgabe an einen Teilbaum - und dieser wendet dieselbe Operation an, die wir gerade erst beschreiben! Das nennt man **Rekursion**.\n",
    "\n",
    "Aber ist das überhaupt möglich/erlaubt/sinnvoll? Die Antwort auf alle diese Fragen ist *ja*! Was das intuitiv bedeutet, haben wir ja weiter oben schon gesehen und angewendet. Jetzt wirst du sehen, dass das auch in einem Programm funktioniert. Hier siehst du dasselbe Verfahren im Pseudocode der Formelsammlung:\n",
    "\n",
    "````{admonition} Pseudocode\n",
    "    OPERATION ausgebenDatenPreorder() der Klasse Knoten\n",
    "\n",
    "        inhalt.ausgebenDaten()\n",
    "\n",
    "        WENN linkerKnoten != NICHTS   # Das ist die Abbruchbedingung!\n",
    "            linkerKnoten.ausgebenDatenPreorder()   # Rekursiver Aufruf\n",
    "        ENDE WENN \n",
    "\n",
    "        WENN rechterKnoten != NICHTS   # Das ist die Abbruchbedingung!\n",
    "            rechterKnoten.ausgebenDatenPreorder()  # Rekursiver Aufruf\n",
    "        ENDE WENN\n",
    "````\n",
    "\n",
    "In Python kann man das z.B. so umsetzen:\n",
    "\n",
    "```python\n",
    "class Knoten:\n",
    "\n",
    "    ...  # Attribute und andere Methoden\n",
    "\n",
    "    def print_preorder(self):\n",
    "        \"\"\"Gibt die Daten des Baums in Preorder-Reihenfolge aus.\"\"\"\n",
    "\n",
    "        print(self.inhalt)\n",
    "\n",
    "        if self.linker_teilbaum != None:            # Abbruchbedingung\n",
    "            self.linker_teilbaum.print_preorder()   # Rekursiver Aufruf\n",
    "\n",
    "        if self.rechter_teilbaum != None:           # Abbruchbedingung\n",
    "            self.rechter_teilbaum.print_preorder()  # Rekursiver Aufruf\n",
    "```\n",
    "\n",
    "```{important}\n",
    "Rekursive Funktionen/Methoden sind immer nach einem ähnlichen Prinzip aufgebaut:\n",
    "- Es gibt eine oder mehrere Stellen, an denen sich die Funktion selbst wieder aufruft.\n",
    "- Bei dem rekursiven Aufruf **wird das bisherige Aufrufargument verändert**, so dass es \"einfacher\" wird.\n",
    "    Was \"einfacher\" bedeutet, hängt von der jeweiligen Aufgabe ab, aber es geht immer darum, das Argument so zu \n",
    "    verändern, dass es \"näher\" an einem \"einfachen\" Wert ist, bei dem die Rekursion abgebrochen werden kann.  \n",
    "- Vor dem rekursiven Aufruf findet deshalb *immer* eine **Fallunterscheidung** statt:\n",
    "    - Falls schon ein **base case** erreicht ist (also so ein \"einfacher\" Fall, bei dem das Ergebnis \n",
    "    klar ist), findet *kein* rekursiver Aufruf statt, sondern dieses Teilergebnis wird sofort zurückgegeben\n",
    "    oder die Funktion beendet.\n",
    "    - Ansonsten wird der Wert des Parameters angepasst (\"vereinfacht\") und die Funktion mit diesem angepassten Wert rekursiv erneut aufgerufen.\n",
    "\n",
    "Bsp.: Beim Durchlaufen eines Baums ist der *base case* eigentlich immer, dass man ein *Blatt* erreicht hat oder zumindest, dass ein bestimmter Teilbaum nicht existiert, so dass an dieser Stelle kein rekursiver Aufruf mehr sinnvoll ist.\n",
    "```"
   ]
  },
  {
   "cell_type": "markdown",
   "metadata": {},
   "source": [
    "## Aufgaben"
   ]
  },
  {
   "cell_type": "markdown",
   "metadata": {},
   "source": [
    "Oft sind rekursive Problemlösungen kurz und elegant (zumindest, wenn man das Prinzip erstmal kapiert hat 😉). **Bei Bäumen ist es sogar so, dass Lösungen ohne Rekursion meistens extrem kompliziert werden!**\n",
    "\n",
    "Zur Wahrheit gehört aber auch, dass es viele Problemstellungen gibt, bei denen statt Rekursion auch eine simple *Schleife* verwendet werden kann. Man spricht dann von einem **iterativen** Ansatz.\n",
    "\n",
    "### Aufgabe 1\n",
    "Vergleiche die beiden folgenden Funktionen - beide bestimmen die Länge einer verketteten Liste. \n",
    "- Überlege dir jeweils, wie die Funktionen funktionieren, und erkläre es deiner Sitznachbarin,\n",
    "- Diskutiert insbesondere, wie in der rekursiven Version verschiedene Returnwerte miteinander verrechnet werden.\n",
    "- Worin unterscheiden und worin ähneln sich die beiden Funktionen?\n",
    "- Welche Variante findest du leichter zu programmieren?\n",
    "- In der nächsten Aufgabe wirst du das Grundprinzip der rekursiven Lösung von einer verketteten Liste auf Binärbäume übertragen. Was glaubst du, musst du dabei verändern?\n"
   ]
  },
  {
   "cell_type": "code",
   "execution_count": 22,
   "metadata": {},
   "outputs": [],
   "source": [
    "# Rekursive Funktion, die die Länge einer verketteten Liste ermittelt\n",
    "def anzahl_knoten_in_liste(knoten: Knoten) -> int:\n",
    "    \"\"\"Anzahl der Knoten im Baum ermitteln. Rekursive Variante\"\"\"\n",
    "    if knoten == None:  # base case\n",
    "        return 0\n",
    "    else:  # rekursiver Fall\n",
    "        zwischenergebnis = anzahl_knoten_in_liste(knoten.naechster)\n",
    "        return 1 + zwischenergebnis\n",
    "    \n",
    "# Iterative Funktion, die die Länge einer verketteten Liste ermittelt\n",
    "def anzahl_knoten_in_liste_mit_schleife(knoten: Knoten) -> int:\n",
    "    \"\"\"Anzahl der Knoten im Baum ermitteln. Iterative Variante, d.h. mit Schleife\"\"\"\n",
    "    anzahl = 0\n",
    "    while knoten != None:\n",
    "        anzahl += 1\n",
    "        knoten = knoten.naechster\n",
    "    return anzahl"
   ]
  },
  {
   "cell_type": "markdown",
   "metadata": {},
   "source": [
    "### Aufgabe 2\n",
    "Weiter oben hatten wir diesen Baum in Python mithilfe der Klasse `Knoten` definiert: \n",
    "```{figure} bilder/baeume/säugetiere_7tiere.svg\n",
    "---\n",
    "name: fig_saeugetiere_7tiere_v2\n",
    "width: 70%\n",
    "align: center\n",
    "---\n",
    "Dieser Baum enthält zahlreiche Knoten (äh, wie viele waren es nochmal genau?)\n",
    "```\n",
    "\n",
    "Dazu hatten wir mehrere `Knoten`-Objekte erzeugt und miteinander über die Attribute `linker_teilbaum` und `rechter_teilbaum` verknüpft. Den Wurzelknoten hatten wir in der Variablen `wurzel` gespeichert:"
   ]
  },
  {
   "cell_type": "code",
   "execution_count": 23,
   "metadata": {},
   "outputs": [
    {
     "name": "stdout",
     "output_type": "stream",
     "text": [
      "Knoten(Säugetier, L:Knoten(Hund, L:Knoten(Collie, L:None, R:None), R:Knoten(Dackel, L:None, R:None)), R:Knoten(Affe, L:Knoten(Schimpanse, L:None, R:None), R:Knoten(Orang-Utan, L:None, R:None)))\n"
     ]
    }
   ],
   "source": [
    "print(wurzel)"
   ]
  },
  {
   "cell_type": "markdown",
   "metadata": {},
   "source": [
    "**Aufgabe:** Vervollständige die untenstehende Funktion, so dass die Anzahl aller Knoten im Baum berechnet wird.\n",
    "\n",
    "**Achtung (1):** Die Funktion soll nichts ausgeben, sondern nur per `return`-Befehl Zahlen zurückliefern. Diese kann man dann in einer Variablen speichern oder mit `print()` ausgeben usw., so wie im Test am Ende der Codezelle. \n",
    "\n",
    "**Achtung (2):** Achte darauf, dass es sich hier nicht um eine *Methode* der Klasse `Knoten` handelt, sondern um eine *Funktion*, die ein `Knoten`-Objekt als *Parameter* erhält. Wenn du also rekursiv dieselbe Funktion noch einmal aufrufst, schreibst du nicht `irgendein_knoten.anzahl_knoten_binaerbaum()`, sondern `anzahl_knoten_binaerbaum(irgendein_knoten)`![^grund] (Genau so wird die Funktion auch im Test am Ende der Codezelle aufgerufen.)\n",
    "\n",
    "[^grund]: Der Grund für die Verwendung einer allgemeinen Funktion statt einer Methode der Klasse `Knoten` ist, dass es damit leichter wird, den `None`-fall zu überprüfen. Der Parameter `knoten` kann jetzt auch `None` sein, so dass man den *base case* mit einer Abfrage à la  ```if knoten == None: ...```  überprüfen kann.\n"
   ]
  },
  {
   "cell_type": "code",
   "execution_count": 24,
   "metadata": {},
   "outputs": [
    {
     "name": "stdout",
     "output_type": "stream",
     "text": [
      "None\n"
     ]
    }
   ],
   "source": [
    "def anzahl_knoten_binaerbaum(knoten: Knoten|None) -> int:\n",
    "    \"\"\"Anzahl der Knoten im Baum ermitteln.\"\"\"\n",
    "\n",
    "    # Tipp: Orientiere dich an der Funktion anzahl_knoten_in_liste aus der vorherigen Aufgabe und\n",
    "    # überlege dir, wie du die Funktion anpassen musst, um sie für einen Binärbaum zu verwenden.\n",
    "    ...\n",
    "    \n",
    "# Test\n",
    "anzahlKnoten = anzahl_knoten_binaerbaum(wurzel)  # Erwartet: 7\n",
    "print(anzahlKnoten) "
   ]
  },
  {
   "cell_type": "markdown",
   "metadata": {},
   "source": [
    "**Lösung:**"
   ]
  },
  {
   "cell_type": "code",
   "execution_count": 25,
   "metadata": {
    "tags": [
     "hide-cell"
    ]
   },
   "outputs": [
    {
     "name": "stdout",
     "output_type": "stream",
     "text": [
      "7\n"
     ]
    }
   ],
   "source": [
    "def anzahl_knoten_binaerbaum(knoten: Knoten|None) -> int:\n",
    "    \"\"\"Anzahl der Knoten im Baum ermitteln.\"\"\"\n",
    "    if knoten == None:  # base case\n",
    "        return 0\n",
    "    else:  # rekursiver Fall\n",
    "        anzahl_links = anzahl_knoten_binaerbaum(knoten.linker_teilbaum)\n",
    "        anzahl_rechts = anzahl_knoten_binaerbaum(knoten.rechter_teilbaum)\n",
    "        return 1 + anzahl_links + anzahl_rechts\n",
    "    \n",
    "# Test\n",
    "anzahlKnoten = anzahl_knoten_binaerbaum(wurzel)  # Erwartet: 7\n",
    "print(anzahlKnoten) "
   ]
  },
  {
   "cell_type": "markdown",
   "metadata": {},
   "source": [
    "### Aufgabe 3\n",
    "Dies ist eine Variante der vorigen Aufgabe: Statt aller Knoten sollst du jetzt nur die *Blattknoten* zählen, also diejenigen Knoten, deren linker *und* rechter Teilbaum nicht existieren."
   ]
  },
  {
   "cell_type": "code",
   "execution_count": 26,
   "metadata": {},
   "outputs": [
    {
     "name": "stdout",
     "output_type": "stream",
     "text": [
      "None\n"
     ]
    }
   ],
   "source": [
    "def anzahl_blattknoten(knoten: Knoten|None) -> int:\n",
    "    \"\"\"Anzahl der Blattknoten im Baum ermitteln.\"\"\"\n",
    "\n",
    "    # Tipp: Die Lösung ist sehr ähnlich zur vorherigen Aufgabe. Du darfst allerdings nur \n",
    "    # diejenigen Knoten zählen, die keine Kinder haben.\n",
    "    ...\n",
    "    \n",
    "# Test\n",
    "anzahlKnoten = anzahl_blattknoten(wurzel)  # Erwartet: 4\n",
    "print(anzahlKnoten)"
   ]
  },
  {
   "cell_type": "markdown",
   "metadata": {},
   "source": [
    "**Lösung:**"
   ]
  },
  {
   "cell_type": "code",
   "execution_count": 27,
   "metadata": {
    "tags": [
     "hide-cell"
    ]
   },
   "outputs": [
    {
     "name": "stdout",
     "output_type": "stream",
     "text": [
      "4\n"
     ]
    }
   ],
   "source": [
    "def anzahl_blattknoten(knoten: Knoten|None) -> int:\n",
    "    \"\"\"Anzahl der Blattknoten im Baum ermitteln.\"\"\"\n",
    "    if knoten == None:  # base case 1 (leerer Teilbaum)\n",
    "        return 0  # Anzahl der Blattknoten in einem leeren Baum ist 0\n",
    "    ist_blatt = knoten.linker_teilbaum == None and knoten.rechter_teilbaum == None\n",
    "    if ist_blatt:  # base case 2 (Blattknoten)\n",
    "        return 1  # Ein Blattknoten hat genau ein Blatt\n",
    "    else:  # rekursiver Fall\n",
    "        anzahl_links = anzahl_blattknoten(knoten.linker_teilbaum)\n",
    "        anzahl_rechts = anzahl_blattknoten(knoten.rechter_teilbaum)\n",
    "        return anzahl_links + anzahl_rechts  \n",
    "    \n",
    "# Test\n",
    "anzahlKnoten = anzahl_blattknoten(wurzel)  # Erwartet: 4\n",
    "print(anzahlKnoten)"
   ]
  },
  {
   "cell_type": "markdown",
   "metadata": {},
   "source": [
    "### Aufgabe 4\n",
    "Bestimme die *Tiefe* eines Binärbaums.\n",
    "\n",
    "Zur Erinnerung: Die Tiefe eines Baums entspricht der Anzahl der Knoten im längsten Pfad des Baums. Allerdings ist für diese Aufgabe vielleicht eine andere Beschreibung hilfreicher. Du findest sie hinter dem folgenden Tipp. Vielleicht brauchst du den Tipp ja aber gar nicht - die Lösung ist (mal wieder) *seeeehr* ähnlich wie die aus Aufgabe 2 😉.\n",
    "\n",
    "```{admonition} Tipp\n",
    ":class: tip, dropdown\n",
    "Ein leerer Baum hat die Tiefe 0. Für alle anderen Bäume gilt: Ihre Tiefe ist um eins größer als die seines linken oder rechten Teilbaums - je nachdem, welcher von beiden die größere Tiefe hat. Anders gesagt: Die Tiefe ist um eins größer als die *maximale* Tiefe seiner beiden Teilbäume.\n",
    "```\n"
   ]
  },
  {
   "cell_type": "code",
   "execution_count": 28,
   "metadata": {},
   "outputs": [
    {
     "name": "stdout",
     "output_type": "stream",
     "text": [
      "None\n"
     ]
    }
   ],
   "source": [
    "def tiefe_binaerbaum(knoten: Knoten) -> int:\n",
    "    \"\"\"Tiefe des Baums ermitteln.\"\"\"\n",
    "\n",
    "    # Tipp: siehe Aufgabenstellung.\n",
    "    ...\n",
    "    \n",
    "# Test\n",
    "tiefe = tiefe_binaerbaum(wurzel)  # Erwartet: 3\n",
    "print(tiefe)"
   ]
  },
  {
   "cell_type": "markdown",
   "metadata": {},
   "source": [
    "**Lösung:**"
   ]
  },
  {
   "cell_type": "code",
   "execution_count": 29,
   "metadata": {
    "tags": [
     "hide-cell"
    ]
   },
   "outputs": [
    {
     "name": "stdout",
     "output_type": "stream",
     "text": [
      "2\n"
     ]
    }
   ],
   "source": [
    "def tiefe_binaerbaum(knoten: Knoten) -> int:\n",
    "    \"\"\"Tiefe des Baums ermitteln.\"\"\"\n",
    "    if knoten == None:  # base case 1 (leerer Teilbaum)\n",
    "        return -1  # Die Tiefe eines leeren Baums ist -1; die der Wurzel ist 0\n",
    "    else:  # rekursiver Fall\n",
    "        tiefe_links = tiefe_binaerbaum(knoten.linker_teilbaum)\n",
    "        tiefe_rechts = tiefe_binaerbaum(knoten.rechter_teilbaum)\n",
    "        return 1 + max(tiefe_links, tiefe_rechts)\n",
    "    \n",
    "# Test\n",
    "tiefe = tiefe_binaerbaum(wurzel)  # Erwartet: 2\n",
    "print(tiefe)"
   ]
  },
  {
   "cell_type": "markdown",
   "metadata": {},
   "source": [
    "### Aufgabe 5\n",
    "Schreibe eine Funktion `enthält_element(knoten, gesuchter_wert)`, die den gesuchten Wert im Baum (ausgehend von `knoten`) sucht und `True` zurückgibt, wenn es einen Knoten gibt, dessen Inhalt der gesuchte Wert ist, und sonst `False`.\n",
    "\n",
    "Diese Aufgabe ist etwas schwieriger als die vorigen. Das liegt daran, dass es eine gewisse \"Ungleichheit\" zwischen zwei Fällen gibt:\n",
    "\n",
    "- Wenn man den gesuchten Wert gefunden hat, kann man aufhören.\n",
    "- Aber wenn man in einem Knoten oder Teilbaum den Wert *nicht* gefunden hat, weiß man noch lange nicht, ob er nicht doch noch in einem anderen Teil des Baums vorkommt.\n",
    "  \n",
    "Die Aufgabe wird etwas leichter zu lösen, wenn man nicht versucht, die Suche frühzeitig zu beenden. Du findest deshalb unten *zwei* verschiedene Musterlösungen. Beide sind *korrekt*, aber die zweite ist deutlich *effizienter*!"
   ]
  },
  {
   "cell_type": "code",
   "execution_count": 30,
   "metadata": {},
   "outputs": [
    {
     "name": "stdout",
     "output_type": "stream",
     "text": [
      "None\n",
      "None\n"
     ]
    }
   ],
   "source": [
    "def enthält_element(knoten, gesuchter_wert) -> bool:\n",
    "    \"\"\"Prüfen, ob der Baum ein bestimmtes Element enthält.\"\"\"\n",
    "\n",
    "    # Tipp: siehe Aufgabenstellung.\n",
    "    ...\n",
    "    \n",
    "# Test\n",
    "ergebnis = enthält_element(wurzel, \"Collie\")  # Erwartet: True\n",
    "print(ergebnis)\n",
    "ergebnis = enthält_element(wurzel, \"Katze\")  # Erwartet: False\n",
    "print(ergebnis)"
   ]
  },
  {
   "cell_type": "markdown",
   "metadata": {},
   "source": [
    "**Lösung 1:** Die folgende Lösung ist zwar korrekt, aber nicht besonders effizient, wenn der gesuchte Wert eigentlich schon früh gefunden wurde. Kannst du erklären, warum?"
   ]
  },
  {
   "cell_type": "code",
   "execution_count": 31,
   "metadata": {
    "tags": [
     "hide-cell"
    ]
   },
   "outputs": [
    {
     "name": "stdout",
     "output_type": "stream",
     "text": [
      "True\n",
      "False\n"
     ]
    }
   ],
   "source": [
    "def enthält_element(knoten, gesuchter_wert) -> bool:\n",
    "    \"\"\"Prüfen, ob der Baum ein bestimmtes Element enthält.\"\"\"\n",
    "    if knoten == None:  # base case 1 (leerer Teilbaum)\n",
    "        return False\n",
    "    if knoten.inhalt == gesuchter_wert:  # base case 2 (Element gefunden)\n",
    "        return True\n",
    "    # Es bleiben noch die rekursiven Fälle: Suche im linken und rechten Teilbaum\n",
    "    links_gefunden = enthält_element(knoten.linker_teilbaum, gesuchter_wert)\n",
    "    rechts_gefunden = enthält_element(knoten.rechter_teilbaum, gesuchter_wert)\n",
    "    if links_gefunden or rechts_gefunden:\n",
    "        return True\n",
    "    else:\n",
    "        return False\n",
    "    \n",
    "# Test\n",
    "ergebnis = enthält_element(wurzel, \"Collie\")  # Erwartet: True\n",
    "print(ergebnis)\n",
    "ergebnis = enthält_element(wurzel, \"Katze\")  # Erwartet: False\n",
    "print(ergebnis)"
   ]
  },
  {
   "cell_type": "markdown",
   "metadata": {},
   "source": [
    "**Lösung 2:** Diese zweite Lösung ist viel effizienter, wenn der gesuchte Wert schon früh gefunden wird. Kannst du erklären, warum?"
   ]
  },
  {
   "cell_type": "code",
   "execution_count": 32,
   "metadata": {
    "tags": [
     "hide-cell"
    ]
   },
   "outputs": [
    {
     "name": "stdout",
     "output_type": "stream",
     "text": [
      "True\n",
      "False\n"
     ]
    }
   ],
   "source": [
    "# Effizientere Variante, die die Suche abbricht, sobald das Element gefunden wurde\n",
    "def enthält_element_effizient(knoten, gesuchter_wert) -> bool:\n",
    "    \"\"\"Prüfen, ob der Baum ein bestimmtes Element enthält. Effiziente Variante\"\"\"\n",
    "    if knoten == None:  # base case 1 (leerer Teilbaum)\n",
    "        return False\n",
    "    if knoten.inhalt == gesuchter_wert:  # base case 2 (Element gefunden)\n",
    "        return True\n",
    "    if enthält_element_effizient(knoten.linker_teilbaum, gesuchter_wert):  # Rekursion\n",
    "        return True\n",
    "    if enthält_element_effizient(knoten.rechter_teilbaum, gesuchter_wert): # Rekursion\n",
    "        return True \n",
    "    return False  # Gesuchter Wert wurde nirgends im Baum gefunden\n",
    "    \n",
    "# Test\n",
    "ergebnis = enthält_element_effizient(wurzel, \"Collie\")  # Erwartet: True\n",
    "print(ergebnis)\n",
    "ergebnis = enthält_element_effizient(wurzel, \"Katze\")  # Erwartet: False\n",
    "print(ergebnis)"
   ]
  },
  {
   "cell_type": "markdown",
   "metadata": {},
   "source": [
    "## Die Klasse *Binaerbaum*\n",
    "\n",
    "Das folgende Klassendiagramm stammt aus der Formelsammlung. Du siehst\n",
    "\n",
    "- unsere altbekannte Klasse `Knoten` mit Referenzen auf den `inhalt` des Knotens sowie auf seinen linken Teilbaum (`linkerKnoten`) und rechten Teilbaum (`rechterKnoten`).\n",
    "- allerdings sind diese Referenzen jetzt *privat*, so dass [Getter- und Setter-Methoden](https://de.wikipedia.org/wiki/Zugriffsfunktion) zur Verfügung gestellt werden müssen, um auf diese Attribute zugreifen zu können: *gibInhalt*, ..., *setzeRechtenKnoten*. \n",
    "- Außerdem gibt es einige weitere Methoden, insb. *ausgebenDatenInorder* usw. **Diese haben wir weiter oben als separate Funktionen programmiert, die wir gleich in Methoden der Klasse umwandeln und dabei leicht verändern müssen!**\n",
    "\n",
    "```{margin}\n",
    "Die Klasse `Knoten` könnte (sollte?) man dann sogar privat machen oder in einem öffentlich nicht zugänglichen *Paket* speichern. Allerdings gibt die Klasse `Binärbaum` durch die öffentliche Methode `gibWurzel` ohnehin Zugriff auf `Knoten`... also nützt eine weitere Kapselung vorerst sowieso nichts.\n",
    "```\n",
    "\n",
    "V.a. haben wir jetzt die Klasse `Binaerbaum`, d.h. den Abstrakten Datentyp, der alle \"öffentlich\" zugänglichen Operationen auf Binärbäumen bereitstellt, ohne dass die Nutzer etwas von Knoten, Teilbäumen oder Rekursion verstehen müssen. Wie die Arbeit intern verteilt wird, siehst du im untenstehenden Code. \n",
    "\n",
    "\n",
    "```{figure} bilder/baeume/BinBaum.svg\n",
    "---\n",
    "name: fig_binbaum_fosa\n",
    "width: 70%\n",
    "align: center\n",
    "---\n",
    "Klassendiagramm Binärbaum aus der Formelsammlung\n",
    "```\n",
    "\n",
    "**Aufgabe:** Vergleiche die Implementierung der Methoden `anzahlKnoten`, `tiefe`, `enthaeltElement` usw. mit den Lösungen aus dem vorigen Abschnitt.\n",
    "\n",
    "Hinweise:\n",
    "- Die Implementierung ist *generisch*, d.h. jeder Knoten speichert einen bestimmten *Typ* von Daten, z.B. einen String, Integer oder eine selbstprogrammierte Klasse wie *Person*. Auch die *VerketteteListe* ist dann generisch: Eine `VerketteteListe[int]` kann nur `int`-Werte speichern, eine `VerketteteListe[Tier]` nur `Tier`-Objekte usw.  \n",
    "- Das macht die Typ-Annotationen recht kompliziert. **Für das Verständnis der Algorithmen sind diese auch nicht unbedingt notwendig - also ignoriere sie, wenn sie dich eher verwirren!**"
   ]
  },
  {
   "cell_type": "code",
   "execution_count": 33,
   "metadata": {},
   "outputs": [],
   "source": [
    "class Knoten[Typ]:  # ab Python 3.12 ist diese Schreibweise für generische Typen möglich\n",
    "\n",
    "    def __init__(self, inhalt: Typ) -> None:\n",
    "        self.__inhalt: Typ = inhalt\n",
    "        self.__linkerKnoten: Knoten[Typ] | None = None\n",
    "        self.__rechterKnoten: Knoten[Typ] | None = None\n",
    "\n",
    "    def istBlatt(self) -> bool:\n",
    "        return self.__linkerKnoten == None and self.__rechterKnoten == None\n",
    "\n",
    "    def gibInhalt(self) -> Typ:\n",
    "        return self.__inhalt\n",
    "\n",
    "    def setzeInhalt(self, pInhalt: Typ) -> None:\n",
    "        self.__inhalt = pInhalt\n",
    "\n",
    "    def gibLinkenKnoten(self) -> Knoten[Typ] | None:\n",
    "        return self.__linkerKnoten\n",
    "\n",
    "    def setzeLinkenKnoten(self, pLinkerKnoten: Knoten[Typ]) -> None:\n",
    "        self.__linkerKnoten = pLinkerKnoten\n",
    "\n",
    "    def gibRechtenKnoten(self) -> Knoten[Typ] | None:\n",
    "        return self.__rechterKnoten\n",
    "\n",
    "    def setzeRechtenKnoten(self, pRechterKnoten: Knoten[Typ]) -> None:\n",
    "        self.__rechterKnoten = pRechterKnoten\n",
    "\n",
    "\n",
    "class Binaerbaum[Typ]:\n",
    "    def __init__(self) -> None:\n",
    "        self.__wurzel: Knoten[Typ] | None = None\n",
    "\n",
    "    def gibWurzel(self) -> Knoten[Typ] | None:\n",
    "        return self.__wurzel\n",
    "\n",
    "    def setzeWurzel(self, pWurzel: Knoten[Typ]) -> None:\n",
    "        self.__wurzel = pWurzel\n",
    "\n",
    "    def istLeer(self) -> bool:\n",
    "        return self.__wurzel == None\n",
    "\n",
    "    def anzahlKnoten(self) -> int:\n",
    "        # Dies ist die öffentliche Methode zur Ermittlung der Anzahl der Knoten im Baum.\n",
    "        # Die eigentliche Arbeit wird von der privaten Methode __anzahlKnotenRekursiv erledigt.\n",
    "        return self.__anzahlKnotenRekursiv(self.__wurzel)\n",
    "\n",
    "    def __anzahlKnotenRekursiv(self, knoten: Knoten[Typ] | None) -> int:\n",
    "        # private Hilfsmethode, die die Anzahl der Knoten im Baum rekursiv ermittelt.\n",
    "        # Sie entspricht fast 1:1 der Funktion anzahl_knoten_binaerbaum aus von weiter oben.\n",
    "        if knoten == None:\n",
    "            return 0\n",
    "        else:\n",
    "            anzahlLinks = self.__anzahlKnotenRekursiv(knoten.gibLinkenKnoten())\n",
    "            anzahlRechts = self.__anzahlKnotenRekursiv(knoten.gibRechtenKnoten())\n",
    "            return 1 + anzahlLinks + anzahlRechts\n",
    "\n",
    "    def anzahlBlaetter(self) -> int:\n",
    "        # Diese Methode gibt die Anzahl der Blattknoten im Baum zurück.\n",
    "        # Auch hier wird die eigentliche Arbeit von einer privaten Methode erledigt.\n",
    "        return self.__anzahlBlaetterRekursiv(self.__wurzel)\n",
    "\n",
    "    def __anzahlBlaetterRekursiv(self, knoten: Knoten[Typ] | None) -> int:\n",
    "        # private Hilfsmethode, die die Anzahl der Blattknoten im Baum rekursiv ermittelt\n",
    "        if knoten == None:\n",
    "            return 0\n",
    "        if knoten.istBlatt():\n",
    "            return 1\n",
    "        else:\n",
    "            anzahlLinks = self.__anzahlBlaetterRekursiv(knoten.gibLinkenKnoten())\n",
    "            anzahlRechts = self.__anzahlBlaetterRekursiv(knoten.gibRechtenKnoten())\n",
    "            return anzahlLinks + anzahlRechts\n",
    "\n",
    "    def tiefe(self) -> int:\n",
    "        # Selbes Spiel wie oben: Die eigentliche Arbeit wird von einer privaten Methode erledigt.\n",
    "        return self.__tiefeRekursiv(self.__wurzel)\n",
    "\n",
    "    def __tiefeRekursiv(self, knoten: Knoten[Typ] | None) -> int:\n",
    "        if knoten == None:\n",
    "            return -1  # Die Tiefe eines leeren Baums ist -1; die der Wurzel ist 0‚\n",
    "        else:\n",
    "            tiefeLinks = self.__tiefeRekursiv(knoten.gibLinkenKnoten())\n",
    "            tiefeRechts = self.__tiefeRekursiv(knoten.gibRechtenKnoten())\n",
    "            return 1 + max(tiefeLinks, tiefeRechts)\n",
    "\n",
    "    def enthaeltElement(self, gesuchterWert: Typ) -> bool:\n",
    "        # Auch hier wird die eigentliche Arbeit von einer privaten Methode erledigt.\n",
    "        return self.__enthaeltElementRekursiv(self.__wurzel, gesuchterWert)\n",
    "\n",
    "    def __enthaeltElementRekursiv(\n",
    "        self, knoten: Knoten[Typ] | None, gesuchterWert: Typ\n",
    "    ) -> bool:\n",
    "        # private Hilfsmethode, die prüft, ob ein bestimmtes Element im Baum enthalten ist\n",
    "        if knoten == None:\n",
    "            return False\n",
    "        if knoten.gibInhalt() == gesuchterWert:\n",
    "            return True\n",
    "        linksGefunden = self.__enthaeltElementRekursiv(\n",
    "            knoten.gibLinkenKnoten(), gesuchterWert\n",
    "        )\n",
    "        rechtsGefunden = self.__enthaeltElementRekursiv(\n",
    "            knoten.gibRechtenKnoten(), gesuchterWert\n",
    "        )\n",
    "        if linksGefunden == True or rechtsGefunden == True:\n",
    "            return True\n",
    "        return False"
   ]
  },
  {
   "cell_type": "code",
   "execution_count": 34,
   "metadata": {},
   "outputs": [
    {
     "name": "stdout",
     "output_type": "stream",
     "text": [
      "Binärbaum zum Speichern von Integer-Werten anlegen.\n",
      "Ist der Baum leer? True\n",
      "Anzahl der Knoten im leeren Baum: 0\n",
      "Wir fügen die Knoten 1 bis 7 ein.\n",
      "Anzahl der Knoten ist jetzt: 7\n",
      "Anzahl der Blattknoten ist: 4\n",
      "Die Tiefe des Baums ist: 2\n",
      "Enthält der Baum die Zahl 3? True\n",
      "Enthält der Baum die Zahl 8? False\n"
     ]
    }
   ],
   "source": [
    "# Tests\n",
    "print(\"Binärbaum zum Speichern von Integer-Werten anlegen.\")\n",
    "baum = Binaerbaum[int]()  # Erzeugen eines leeren Baums, der Integer-Werte speichert\n",
    "print(\"Ist der Baum leer?\", baum.istLeer())  # Erwartet: True\n",
    "print(\"Anzahl der Knoten im leeren Baum:\", baum.anzahlKnoten())  # Erwartet: 0\n",
    "\n",
    "k1: Knoten[int] = Knoten(1)\n",
    "k2: Knoten[int] = Knoten(2)\n",
    "k3: Knoten[int] = Knoten(3)\n",
    "k4: Knoten[int] = Knoten(4)\n",
    "k5: Knoten[int] = Knoten(5)\n",
    "k6: Knoten[int] = Knoten(6)\n",
    "k7: Knoten[int] = Knoten(7)\n",
    "\n",
    "print(\"Wir fügen die Knoten 1 bis 7 ein.\")\n",
    "baum.setzeWurzel(k1)\n",
    "k1.setzeLinkenKnoten(k2)\n",
    "k1.setzeRechtenKnoten(k3)\n",
    "k2.setzeLinkenKnoten(k4)\n",
    "k2.setzeRechtenKnoten(k5)\n",
    "k3.setzeLinkenKnoten(k6)\n",
    "k3.setzeRechtenKnoten(k7)\n",
    "\n",
    "anzahlKnoten = baum.anzahlKnoten()\n",
    "print(f\"Anzahl der Knoten ist jetzt: {anzahlKnoten}\")  # Erwartet: 7\n",
    "\n",
    "anzahlBlätter = baum.anzahlBlaetter()\n",
    "print(f\"Anzahl der Blattknoten ist: {anzahlBlätter}\")  # Erwartet: 4\n",
    "\n",
    "tiefe = baum.tiefe()  # Erwartet: 3\n",
    "print(f\"Die Tiefe des Baums ist: {tiefe}\")\n",
    "\n",
    "print(\"Enthält der Baum die Zahl 3?\", baum.enthaeltElement(3))  # Erwartet: True\n",
    "print(\"Enthält der Baum die Zahl 8?\", baum.enthaeltElement(8))  # Erwartet: False\n"
   ]
  },
  {
   "cell_type": "code",
   "execution_count": null,
   "metadata": {},
   "outputs": [],
   "source": [
    "def anzahlKnoten(knoten: Knoten[Typ] | None) -> int:\n",
    "    if knoten == None:\n",
    "        return 0\n",
    "    else:\n",
    "        anzahlLinks = anzahlKnoten(knoten.gibLinkenKnoten())\n",
    "        anzahlRechts = anzahlKnoten(knoten.gibRechtenKnoten())\n",
    "        return 1 + anzahlLinks + anzahlRechts"
   ]
  }
 ],
 "metadata": {
  "kernelspec": {
   "display_name": "base",
   "language": "python",
   "name": "python3"
  },
  "language_info": {
   "codemirror_mode": {
    "name": "ipython",
    "version": 3
   },
   "file_extension": ".py",
   "mimetype": "text/x-python",
   "name": "python",
   "nbconvert_exporter": "python",
   "pygments_lexer": "ipython3",
   "version": "3.12.2"
  }
 },
 "nbformat": 4,
 "nbformat_minor": 2
}
