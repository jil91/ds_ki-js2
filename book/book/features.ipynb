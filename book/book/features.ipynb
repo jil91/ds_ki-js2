{
 "cells": [
  {
   "cell_type": "markdown",
   "metadata": {},
   "source": [
    "# Testseite für neue Features\n",
    "\n",
    "Diese Seite dient als Ort für das Testen neuer Features und sollte gf. nicht in der Live-Version der Seite auftauchen.\n",
    "\n",
    "```{contents} Inhalte\n",
    ":depth: 2\n",
    "```"
   ]
  },
  {
   "cell_type": "markdown",
   "metadata": {},
   "source": [
    "## H5P\n",
    "\n",
    "### Quiz\n",
    "<iframe src=\"https://app.lumi.education/api/v1/run/8F0gl7/embed\" width=\"1088\" height=\"720\" frameborder=\"0\" allowfullscreen=\"allowfullscreen\" allow=\"geolocation *; microphone *; camera *; midi *; encrypted-media *\"></iframe><script src=\"https://app.Lumi.education/api/v1/h5p/core/js/h5p-resizer.js\" charset=\"UTF-8\"></script>"
   ]
  },
  {
   "cell_type": "markdown",
   "metadata": {},
   "source": [
    "## Tooltips\n",
    "\n",
    "```{admonition} Referenzen\n",
    ":class: seealso\n",
    "- [sphinx-tippy Beispiel](https://sphinx-tippy.readthedocs.io/en/latest/) (https://github.com/sphinx-extensions2/sphinx-tippy)\n",
    "- [teachbooks-sphinx-tippy Beispiel](https://teachbooks.io/TeachBooks-sphinx-tippy-Example/main/) (https://github.com/TeachBooks/teachbooks-sphinx-tippy)\n",
    "```\n",
    "\n",
    "```{warning}\n",
    ":name: hinweis-tooltips\n",
    "Beim Entwickeln funktionieren die Tooltips mit `make develop` manchmal nicht, meist nur nach Neustart des Befehls. Um sicherzugehen, dass die Tooltips funktionieren, sollte das Teachbook mit `make build` neu gebaut werden. Dann die Seite manuell öffnen ohne Live-Server.  \n",
    "```\n",
    "\n",
    "```{hint}\n",
    "Die Links können wie bisher mit ``[Name](Linkziel)`` angegeben werden. Sonderfall sind Glossareinträge, diese müssen mit ``{term}`Name <Glossar-Eintrag>` `` angegeben werden. Bei internen Seiten darf nicht die Endung `.ipynb` angegeben werden, sondern nur den Dateinamen. Außerdem ist es wichtig, bei Referenzen zu anderen Stellen/Bildern/Tabellen das Ziel ohne ``#`` anzugeben.\n",
    "```\n",
    "\n",
    "**Beispiele:**  \n",
    "\n",
    "| Interne Seite ohne/mit Text ||\n",
    "| --- | --- |\n",
    "| ``[](live_code)`` | [](live_code)\n",
    "| ``[Zur Live-Code Seite](live_code)`` | [Zur Live-Code Seite](live_code)\n",
    "\n",
    "| Interne Unterseite ohne/mit Text ||\n",
    "| --- | --- |\n",
    "| ``[](ki/knearestneighbor)`` | [](ki/knearestneighbor)\n",
    "| ``[Zum kNN-Algorithmus](ki/knearestneighbor)`` | [Zum kNN-Algorithmus](ki/knearestneighbor)\n",
    "\n",
    "| Glossar-Eintrag ohne/mit Text ||\n",
    "| --- | --- |\n",
    "``{term}`Euklidische Distanz` `` | {term}`Euklidische Distanz`\n",
    "``{term}`siehe Euklidische Distanz <Euklidische Distanz>` `` | {term}`siehe Euklidische Distanz <Euklidische Distanz>`\n",
    "\n",
    "| Admonition mit ``:name: admonitionname`` (Text erforderlich) ||\n",
    "| --- | --- |\n",
    "| ``[Hinweise zu den Tooltips](hinweis-tooltips)`` | [Hinweise zu den Tooltips](hinweis-tooltips)\n",
    "\n",
    "| Abschnitte mit ``(abschnittname)=`` (Text erforderlich) ||\n",
    "| --- | --- |\n",
    "| ``[Beispiel-Abschnitt](beispiel-abschnitt)`` | [Hier zum Beispiel-Abschnitt](beispiel-abschnitt)\n",
    "\n",
    "| Englisches Wikipedia ||\n",
    "| --- | --- |\n",
    "| ``[Tooltip](https://en.wikipedia.org/wiki/Tooltip)`` | [Tooltip](https://en.wikipedia.org/wiki/Tooltip)\n",
    "\n",
    "Alternativ können bei Dokumenten und Referenzen auch die Rollen ``{doc}`Name <Linkziel>` `` und ``{ref}`Name <Linkziel>` ``verwendet werden. Aber die Schreibweise mit ``[]()`` ist einfacher und sollte bevorzugt werden.  \n",
    "Z.B: ``{doc}`live_code` `` bzw. ``{doc}`Zur Live-Code Seite <live_code>` ``\n",
    "\n",
    "Bei Glossar-Einträgen funktioniert nur die Rolle ``{term}`Name <Glossar-Eintrag>` ``. Nachteil ist hier, dass das Linkziel immer genau dem Namen des Glossar-Eintrags entsprechen muss. Bisher keine Möglichkeit gefunden, das zu umgehen.\n"
   ]
  },
  {
   "cell_type": "markdown",
   "metadata": {},
   "source": [
    "## Definition und Glossar\n",
    "\n",
    "```{admonition} Referenzen\n",
    ":class: seealso\n",
    "https://myst-parser.readthedocs.io/en/latest/syntax/typography.html#syntax-glossaries\n",
    "```\n",
    "\n",
    "Automatisches Formatieren für Glossar-Einträge:\n",
    "\n",
    "```\n",
    "{.glossary}\n",
    "Term 1\n",
    ": Definition\n",
    "\n",
    "Term 2\n",
    ": Longer definition\n",
    "\n",
    "  With multiple paragraphs\n",
    "```\n",
    "\n",
    "{.glossary}\n",
    "Term 1\n",
    ": Definition\n",
    "\n",
    "Term 2\n",
    ": Longer definition\n",
    "\n",
    "  With multiple paragraphs\n",
    "\n",
    "Referenz zu den vorigen Definitionen {term}`Term 1` und {term}`Term 2` mit Tooltip."
   ]
  },
  {
   "cell_type": "markdown",
   "metadata": {},
   "source": [
    "## Block attributes\n",
    "\n",
    "```{admonition} Referenzen\n",
    ":class: seealso\n",
    "https://myst-parser.readthedocs.io/en/latest/syntax/optional.html#block-attributes  \n",
    "https://myst-parser.readthedocs.io/en/latest/syntax/cross-referencing.html#creating-explicit-targets\n",
    "```\n",
    "\n",
    "Es ist möglich, ganze Abschnitte mit Attributen zu versehen.\n",
    "``{#mypara .bg-warning}``\n",
    "\n",
    "{#mypara .bg-warning}\n",
    "Das ist ein ganzer Paragraf als Warnung hinterlegt.\n",
    "\n",
    "Referenz zum vorigen [Paragraphen mit ID mypara](mypara)` ohne '#'!.  \n",
    "Code: ``[Paragraphen mit ID mypara](mypara)``"
   ]
  },
  {
   "cell_type": "markdown",
   "metadata": {},
   "source": [
    "## Inline attributes\n",
    "\n",
    "```{seealso}\n",
    "https://myst-parser.readthedocs.io/en/latest/syntax/optional.html#inline-attributes\n",
    "```\n",
    "Hier kommt ein [Text mit Warnung]{.bg-warning} in einem Textabschnitt."
   ]
  },
  {
   "cell_type": "markdown",
   "metadata": {},
   "source": [
    "## Einbinden von Font Awesome Icons\n",
    "\n",
    "```{admonition} Referenzen\n",
    ":class: seealso\n",
    "https://marketplace.visualstudio.com/items?itemName=tomasvergara.vscode-fontawesome-gallery für Suchen von Icons in VS Code  \n",
    "https://fontawesome.com/v5/search?o=r&m=free für die Suche nach Icons auf der Font Awesome Seite\n",
    "```\n",
    "\n",
    "Es ist möglich, Font Awesome Icons einzubinden. Es wird die Klasse `fas` bzw. `fa-solid` und der Name des Icons benötigt. Die Icons können auch in Buttons oder Links eingebunden werden (bzw. sind sie ja schon im Template in der Headerbar). Die verwendeten Icons sind aus der Free-Version von Font Awesome (solid Icons).\n",
    "\n",
    "| Icon | Code |\n",
    "| ---- | ---- |\n",
    "| <span class=\"fas fa-download\"></span>  | ``<span class=\"fas fa-download\"></span>`` |\n",
    "| <span class=\"fas fa-rocket\"></span> | ``<span class=\"fas fa-rocket\"></span>`` |\n",
    "| <span class=\"fas fa-graduation-cap\"></span> | ``<span class=\"fas fa-graduation-cap\"></span>`` |"
   ]
  },
  {
   "cell_type": "markdown",
   "metadata": {},
   "source": [
    "<br><hr /><br>\n",
    "\n",
    "(beispiel-abschnitt)=\n",
    "**Beispiel-Abschnitt zum verlinken**  \n",
    "Diesen Abschnitt kann man verlinken, indem mal einen Verweisschlüssel vorher setzt mit ``(name)=``."
   ]
  }
 ],
 "metadata": {
  "language_info": {
   "name": "python"
  }
 },
 "nbformat": 4,
 "nbformat_minor": 2
}
