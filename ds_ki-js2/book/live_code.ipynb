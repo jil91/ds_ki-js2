{
 "cells": [
  {
   "cell_type": "markdown",
   "metadata": {},
   "source": [
    "# Programmieren direkt in diesem Buch\n",
    "\n",
    "Auf manchen Seiten in diesem Buch siehst du ganz oben ein 🚀 Raketensymbol. Klicke es an und wähle dann \"Live Code\". Dadurch wird die Seite zu einem Jupyter Notebook, das du direkt im Browser bearbeiten und ausführen kannst - ganz ohne Software zu installieren!\n",
    "\n",
    "Probiere es hier unten gleich einmal aus 👇\n",
    "\n",
    "## Live Coding: Erster Versuch"
   ]
  },
  {
   "cell_type": "code",
   "execution_count": 5,
   "metadata": {},
   "outputs": [
    {
     "name": "stdout",
     "output_type": "stream",
     "text": [
      "Gleich wirst du persönlich begrüßt:\n",
      "Hallo\n"
     ]
    }
   ],
   "source": [
    "# Aufgabe 1: Führe den Code aus (🚀 ⟶ Live Code ⟶ \"run\"-Button unterhalb dieser Zelle). \n",
    "# Aufgabe 2: Ändere den Code so, dass bei der Ausführung\"Hallo Welt\" ausgegeben wird.\n",
    "\n",
    "name: str = \"Max Mustermann\"   # Ersetze durch deinen Namen\n",
    "\n",
    "print(\"Gleich wirst du persönlich begrüßt:\")\n",
    "# Aufgabe: Erweitere den Code so, dass die Person begrüßt wird,\n",
    "# deren Name in der Variable `name` gespeichert ist.\n",
    "print(\"Hallo\")\n"
   ]
  },
  {
   "cell_type": "markdown",
   "metadata": {},
   "source": [
    "### Übungsaufgabe\n",
    "Bearbeite die folgende Aufgabe direkt im Browser (🚀-Button). \n",
    "\n",
    "Wenn du die Zelle ausführst, laufen ein paar automatische Tests ab. Wenn sie alle fehlerfrei durchlaufen, herzlichen Glückwunsch! Falls nicht, sieh dir an, welcher Test schief ging und überlege warum."
   ]
  },
  {
   "cell_type": "code",
   "execution_count": 6,
   "metadata": {},
   "outputs": [
    {
     "name": "stdout",
     "output_type": "stream",
     "text": [
      "Beginne Tests...\n"
     ]
    },
    {
     "ename": "AssertionError",
     "evalue": "Test 1 fehlgeschlagen",
     "output_type": "error",
     "traceback": [
      "\u001b[0;31m---------------------------------------------------------------------------\u001b[0m",
      "\u001b[0;31mAssertionError\u001b[0m                            Traceback (most recent call last)",
      "Cell \u001b[0;32mIn[6], line 10\u001b[0m\n\u001b[1;32m      8\u001b[0m \u001b[38;5;66;03m# Mit den folgenden Tests kannst du überprüfen, ob deine Funktion richtig funktioniert\u001b[39;00m\n\u001b[1;32m      9\u001b[0m \u001b[38;5;28mprint\u001b[39m(\u001b[38;5;124m\"\u001b[39m\u001b[38;5;124mBeginne Tests...\u001b[39m\u001b[38;5;124m\"\u001b[39m)\n\u001b[0;32m---> 10\u001b[0m \u001b[38;5;28;01massert\u001b[39;00m finde_maximum(\u001b[38;5;241m1\u001b[39m, \u001b[38;5;241m2\u001b[39m, \u001b[38;5;241m3\u001b[39m) \u001b[38;5;241m==\u001b[39m \u001b[38;5;241m3\u001b[39m, \u001b[38;5;124m\"\u001b[39m\u001b[38;5;124mTest 1 fehlgeschlagen\u001b[39m\u001b[38;5;124m\"\u001b[39m\n\u001b[1;32m     11\u001b[0m \u001b[38;5;28;01massert\u001b[39;00m finde_maximum(\u001b[38;5;241m3\u001b[39m, \u001b[38;5;241m2\u001b[39m, \u001b[38;5;241m1\u001b[39m) \u001b[38;5;241m==\u001b[39m \u001b[38;5;241m3\u001b[39m, \u001b[38;5;124m\"\u001b[39m\u001b[38;5;124mTest 2 fehlgeschlagen\u001b[39m\u001b[38;5;124m\"\u001b[39m\n\u001b[1;32m     12\u001b[0m \u001b[38;5;28;01massert\u001b[39;00m finde_maximum(\u001b[38;5;241m1\u001b[39m, \u001b[38;5;241m3\u001b[39m, \u001b[38;5;241m2\u001b[39m) \u001b[38;5;241m==\u001b[39m \u001b[38;5;241m3\u001b[39m, \u001b[38;5;124m\"\u001b[39m\u001b[38;5;124mTest 3 fehlgeschlagen\u001b[39m\u001b[38;5;124m\"\u001b[39m\n",
      "\u001b[0;31mAssertionError\u001b[0m: Test 1 fehlgeschlagen"
     ]
    }
   ],
   "source": [
    "def finde_maximum(a: int, b: int, c: int) -> int:\n",
    "    # Aufgabe: Schreibe eine Funktion, die den größten Wert von a, b und c zurückgibt.\n",
    "    \n",
    "    # TODO: Implementiere die Funktion\n",
    "    return 0  # TODO: Ersetze durch den berechneten Wert    \n",
    "\n",
    "\n",
    "# Mit den folgenden Tests kannst du überprüfen, ob deine Funktion richtig funktioniert\n",
    "print(\"Beginne Tests...\")\n",
    "assert finde_maximum(1, 2, 3) == 3, \"Test 1 fehlgeschlagen\"\n",
    "assert finde_maximum(3, 2, 1) == 3, \"Test 2 fehlgeschlagen\"\n",
    "assert finde_maximum(1, 3, 2) == 3, \"Test 3 fehlgeschlagen\"\n",
    "assert finde_maximum(1, 1, 1) == 1, \"Test 4 fehlgeschlagen\"\n",
    "assert finde_maximum(2, 1, 1) == 2, \"Test 5 fehlgeschlagen\"\n",
    "assert finde_maximum(-3, -2, -5) == -2, \"Test 6 fehlgeschlagen\"\n",
    "print(\"Super! Alle Tests bestanden.\")\n"
   ]
  },
  {
   "cell_type": "markdown",
   "metadata": {},
   "source": [
    "## Aufgaben herunterladen\n",
    "Dieses Skript besteht aus *Jupyter Notebooks*. Du kannst, wie oben gezeigt, die Notebooks im Browser bearbeiten. Das ist v.a. für kurze, einfache Aufgaben sinnvoll. Allerdings sind deine Eingaben beim Neuladen der Webseite sofort wieder verschwunden.\n",
    "\n",
    "Du kannst die Notebooks aber auch herunterladen und *auf deinem eigenen Rechner* damit arbeiten (z.B. in *VS Code*).\n",
    "\n",
    "Zum Herunterladen einer Seite, \n",
    "\n",
    "1. klicke am oberen Rand dieser Seite auf das Download-Symbol <span class=\"fas fa-download\"></span> (in der Nähe der 🚀) \n",
    "2. wähle das Format `.ipynb` und speichere die Datei ab. \n",
    "3. (Falls die Datei im Browser angezeigt wird, mache stattdessen einen Rechtsklick auf `.ipynb` und wähle im Kontextmenü \"Link speichern unter...\")\n",
    "\n",
    "Kopiere das Notebook zu deinen Unterrichtsmaterialien und bearbeite es dort. So bleiben deine Ergebnisse dauerhaft erhalten.\n",
    "\n",
    "**Aufgabe:** Probiere das sofort aus. Lade dieses Notebook herunter und bearbeite die folgende Aufgabe auf deinem eigenen Rechner."
   ]
  },
  {
   "cell_type": "code",
   "execution_count": 10,
   "metadata": {},
   "outputs": [
    {
     "name": "stdout",
     "output_type": "stream",
     "text": [
      "Beispiele für Mitarbeiter:\n",
      "Max Mustermann (Gehalt: 3000 €)\n",
      "Anna Musterfrau (Gehalt: 4000 €)\n",
      "Anna bekommt eine Gehaltserhöhung um 500 €\n",
      "Anna Musterfrau (Gehalt: 4500 €)\n"
     ]
    }
   ],
   "source": [
    "class Mitarbeiter:\n",
    "    def __init__(self, vorname: str, nachname: str, gehalt: float):\n",
    "        \"\"\"Konstruktor für Mitarbeiter-Objekte\"\"\"\n",
    "        # TODO: Speichere die übergebenen Werte in den Attributen\n",
    "        # Tipp: Verwende die `self`-Variable, um auf das Objekt zuzugreifen\n",
    "\n",
    "    def __str__(self):\n",
    "        \"\"\"Gibt eine lesbare Repräsentation des Mitarbeiters zurück\"\"\"\n",
    "        # TODO: Ersetze den Platzhalter durch eine passende Repräsentation des Mitarbeiters\n",
    "\n",
    "        return f\"hier etwas sinnvolles einsetzen\"\n",
    "    \n",
    "    def gehalt_erhoehen(self, betrag: float):\n",
    "        \"\"\"Erhöht das Gehalt des Mitarbeiters um den angegebenen Betrag\"\"\"\n",
    "        # TODO: Implementiere die Funktion \n",
    "         \n",
    "           \n",
    "# Beispiele für Mitarbeiter\n",
    "print(\"Beispiele für Mitarbeiter:\")\n",
    "max = Mitarbeiter(\"Max\", \"Mustermann\", 3000)\n",
    "anna = Mitarbeiter(\"Anna\", \"Musterfrau\", 4000)\n",
    "print(max)  # Erwartete Ausgabe: Max Mustermann (Gehalt: 3000 €)\n",
    "print(anna)  # Erwartete Ausgabe: Anna Musterfrau (Gehalt: 4000 €)\n",
    "print(\"Anna bekommt eine Gehaltserhöhung um 500 €\")\n",
    "anna.gehalt_erhoehen(500)\n",
    "print(anna)  # Erwartete Ausgabe: Anna Musterfrau (Gehalt: 4500 €)"
   ]
  },
  {
   "cell_type": "markdown",
   "metadata": {},
   "source": [
    "**Lösung:** (Aber nur anschauen, wenn du wirklich nicht weiterkommst!)"
   ]
  },
  {
   "cell_type": "code",
   "execution_count": null,
   "metadata": {
    "tags": [
     "hide-cell"
    ]
   },
   "outputs": [
    {
     "name": "stdout",
     "output_type": "stream",
     "text": [
      "Beispiele für Mitarbeiter:\n",
      "Max Mustermann (Gehalt: 3000 €)\n",
      "Anna Musterfrau (Gehalt: 4000 €)\n",
      "Anna bekommt eine Gehaltserhöhung um 500 €\n",
      "Anna Musterfrau (Gehalt: 4500 €)\n"
     ]
    }
   ],
   "source": [
    "class Mitarbeiter:\n",
    "    def __init__(self, vorname: str, nachname: str, gehalt: float):\n",
    "        \"\"\"Konstruktor für Mitarbeiter-Objekte\"\"\"\n",
    "        self.vorname: str = vorname\n",
    "        self.nachname: str = nachname\n",
    "        self.gehalt: float = gehalt\n",
    "\n",
    "    def __str__(self):\n",
    "        \"\"\"Gibt eine lesbare Repräsentation des Mitarbeiters zurück\"\"\"\n",
    "        return f\"{self.vorname} {self.nachname} (Gehalt: {self.gehalt} €)\"\n",
    "    \n",
    "    def gehalt_erhoehen(self, betrag: float):\n",
    "        \"\"\"Erhöht das Gehalt des Mitarbeiters um den angegebenen Betrag\"\"\"\n",
    "        self.gehalt += betrag\n",
    "    \n",
    "# Beispiele für Mitarbeiter\n",
    "print(\"Beispiele für Mitarbeiter:\")\n",
    "max = Mitarbeiter(\"Max\", \"Mustermann\", 3000)\n",
    "anna = Mitarbeiter(\"Anna\", \"Musterfrau\", 4000)\n",
    "print(max)  # Erwartete Ausgabe: Max Mustermann (Gehalt: 3000 €)\n",
    "print(anna)  # Erwartete Ausgabe: Anna Musterfrau (Gehalt: 4000 €)\n",
    "print(\"Anna bekommt eine Gehaltserhöhung um 500 €\")\n",
    "anna.gehalt_erhoehen(500)\n",
    "print(anna)  # Erwartete Ausgabe: Anna Musterfrau (Gehalt: 4500 €)"
   ]
  }
 ],
 "metadata": {
  "kernelspec": {
   "display_name": "base",
   "language": "python",
   "name": "python3"
  },
  "language_info": {
   "codemirror_mode": {
    "name": "ipython",
    "version": 3
   },
   "file_extension": ".py",
   "mimetype": "text/x-python",
   "name": "python",
   "nbconvert_exporter": "python",
   "pygments_lexer": "ipython3",
   "version": "3.11.8"
  }
 },
 "nbformat": 4,
 "nbformat_minor": 2
}
