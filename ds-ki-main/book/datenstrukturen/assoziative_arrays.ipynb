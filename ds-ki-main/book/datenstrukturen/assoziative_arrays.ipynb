{
 "cells": [
  {
   "cell_type": "markdown",
   "metadata": {},
   "source": [
    "# Assoziative Arrays\n",
    "```{margin}\n",
    "Dieser abstrakte Datentyp hat viele Namen: **Wörterbuch** (engl. **dictionary**), **Map** oder eben **assoziatives Array**. Manche Leute sagen auch **Hashtabelle** (engl. **Hash Table**) - aber wenn man es genau nimmt, handelt es sich dabei schon um eine konkrete Implementierungsvariante des ADTs - nämlich eine, die Hashing verwendet. Schau dir z.B. einmal [die zahlreichen Klassen in der Programmiersprache Java an, die das Interface bzw. den ADT *Map* implementieren](https://docs.oracle.com/en/java/javase/17/docs/api/java.base/java/util/Map.html). \n",
    "```\n",
    "\n",
    "**Beispiel 1:** Stell dir vor, du wolltest eine Vokabeltrainer-App entwickeln. Wer damit lernt, muss zu einer deutschen Vokabel die englische Übersetzung nennen. Das Programm überprüft dann die Antwort.\n",
    "Klar ist: Wir brauchen dazu eine Datenstruktur, die uns ermöglicht *schnell* zu überprüfen, ob die englische Benutzereingabe zur deutschen Vokabel passt.  \n",
    "\n",
    "**Beispiel 2:** In einem altmodischen Telefonbuch wurde jedem Namen eine Telefonnummer zugeordnet. Das nutzt heute (fast) niemand mehr, aber deine Kontaktliste im Smartphone speichert ebenfalls eine solche **Zuordnung**: Wenn du \"Heini\" eintippst, ist diesem String eine Telefonummer (und meist noch viele andere Informationen über deinen Kumpel Heini) zugeordnet. Auch hierfür ist es entscheidend, dass der dem **Schlüssel** \"Heini\" zugeordnete **Wert** (z.B. 0172-1234567) blitzschnell gefunden werden kann.\n",
    "\n"
   ]
  },
  {
   "cell_type": "markdown",
   "metadata": {},
   "source": [
    "**Übung 1:** Überlege, mit welcher bereits bekannten Datenstruktur du ein Wörterbuch implementieren würdest:\n",
    "- Python-Liste\n",
    "- Verkettete Liste\n",
    "- Stack\n",
    "- Warteschlange\n",
    "\n",
    "<details>\n",
    "    <summary>Antwort anzeigen</summary>\n",
    "    <p>Ein Wörterbuch enthält 1. sehr viele Einträge und muss 2. sehr schnell auf jeden einzelnen zugreifen können. Wegen 2. würde sich ein Array anbieten, denn dies ist die einzige Datenstruktur, die einen direkten Zugriff (d.h. in konstanter Zeit unabhängig von der Größe des Arrays) auf jedes Element erlaubt. Allerdings funktioniert das nicht, weil man nicht genau weiß, wo im Array ein bestimmtes Wort gespeichert ist.</p>\n",
    "    <p>Möglich wäre eine alphabetisch sortierte Liste, die dann mithilfe der binären Suche recht schnell durchsucht werden kann. Eine äquivalente Lösung wäre die Verwendung eines binären Suchbaums, der genauso schnell durchsucht werden kann.</p>\n",
    "    <p>Beide Lösungen sind möglich (in Java gibt es z.B. die Klasse <emph>TreeMap</emph>), aber sie erfordern, dass man die Liste immer sortiert hält bzw. den Suchbaum immer balanciert.</p>\n",
    "</details>\n",
    "\n"
   ]
  },
  {
   "cell_type": "markdown",
   "metadata": {},
   "source": [
    "## Assoziative Arrays in Python: Dictionaries\n",
    "\n",
    "In einer Liste wird immer einer *Position* ein *Wert* zugeordnet, z.B.:\n",
    "`namen[17] = \"Bibi\"`, d.h. an der Position 17 wird der Wert \"Bibi\" gespeichert. In einer \n",
    "zweiten Liste für Telefonnummern kann man dann z.B. \n",
    "`telefonnummern[17] = \"0711-1234\"` zuordnene, d.h. an der Position 17 wird der Wert \"0711-1234\" gespeichert.  \n",
    "\n",
    "Das ist oft aber nur eine umständliche Behelfslösung für das, was man eigentlich benötigt. Denn wenn man z.B. die Telefonummer von \"Heinz\" sucht, muss\n",
    "man erst die *Position* von \"Heinz\" in der Liste `namen` suchen und dann an der gleichen Position in der Liste\n",
    "`telefonnummern` nachsehen. Das ist umständlich und fehleranfällig!\n",
    "\n",
    "In einem Dictionary wird jedem Schlüssel ein Wert zugeordnet.\n",
    "\n",
    "`telefonbuch[\"Heinz\"] = \"0711-1234\"` \n",
    "\n",
    "bedeutet, das für den Schlüssel \"Heinz\" der Wert \"0711-1234\" gespeichert wird.\n",
    "\n",
    "Will man die Telefonnummer von \"Heinz\" in einem Dictionary *suchen*, so fragt man einfach nach dem Wert, der dem Schlüssel \"Heinz\" zugeordnet ist, sozusagen dem Wert an der Position \"Heinz\":\n",
    "\n",
    "`tel_heinz = telefonbuch[\"Heinz\"]`\n",
    "\n",
    "Das ist einfacher, weniger fehleranfällig und - mit der richtigen Implementierung - sogar viel schneller!\n",
    "\n",
    "Wie du siehst, ist die Syntax für das Schreiben und Lesen in einem Dictionary ist fast die gleiche wie bei einer Liste:\n"
   ]
  },
  {
   "cell_type": "code",
   "execution_count": 11,
   "metadata": {},
   "outputs": [
    {
     "name": "stdout",
     "output_type": "stream",
     "text": [
      "Das Telefonbuch mit 3 Einträgen: {'Bibi': '0761-1234', 'Tina': '0721-5678', 'Amadeus': '0761-9999'}\n",
      "Tinas Nummer: 0721-5678\n",
      "Amadeus' Nummer: 0761-9999\n",
      "Bibi bekommt eine neue Nummer. Bisherige Nummer: 0761-1234\n",
      "Bibis neue Nummer: 0761-9999\n",
      "Bibis Nummer: 0761-9999\n",
      "Karla ist nicht im Telefonbuch\n",
      "Das Telefonbuch, nachdem Bibi gelöscht wurde: {'Tina': '0721-5678', 'Amadeus': '0761-9999'}\n",
      "Kein Eintrag für Karla vorhanden\n",
      "Schlüssel im Telefonbuch: dict_keys(['Tina', 'Amadeus'])\n"
     ]
    }
   ],
   "source": [
    "telefonbuch = dict()   # leeres Dictionary anlegen\n",
    "telefonbuch = {}       # Alternative Schreibweise, legt ebenfalls ein leeres Dictionary an\n",
    "\n",
    "# Man kann beim Erstellen des Dictionarys auch schon Einträge anlegen:\n",
    "telefonbuch = {\"Bibi\": \"0761-1234\", \"Tina\": \"0721-5678\"}   # Dictionary mit Einträgen anlegen\n",
    "\n",
    "telefonbuch[\"Amadeus\"] = \"0761-9999\"  # Dem Schlüssel \"Amadeus\" wird der Wert \"0761-9999\" zugeordnet\n",
    "\n",
    "# Das Telefonbuch enthält jetzt drei Schlüssel-Wert-Paare:\n",
    "# \"Bibi\" -> \"0761-1234\"\n",
    "# \"Tina\" -> \"0721-5678\"\n",
    "# \"Amadeus\" -> \"0761-9999\"\n",
    "print(\"Das Telefonbuch mit 3 Einträgen:\", telefonbuch)\n",
    "\n",
    "# Wir können über die Schlüssel auf die Werte zugreifen:\n",
    "tinas_nummer = telefonbuch[\"Tina\"]   # Der Wert zum Schlüssel \"Tina\" wird ausgelesen und in einer Variablen gespeichert\n",
    "print(\"Tinas Nummer:\", tinas_nummer) # Der Wert wird ausgegeben\n",
    "print(\"Amadeus' Nummer:\", telefonbuch[\"Amadeus\"])        # Der Wert zum Schlüssel \"Amadeus\" wird ausgegeben\n",
    "\n",
    "# Ein Schlüssel-Wert-Paar kann überschrieben werden:\n",
    "print(\"Bibi bekommt eine neue Nummer. Bisherige Nummer:\", telefonbuch[\"Bibi\"])\n",
    "telefonbuch[\"Bibi\"] = \"0761-9999\"   # Der Wert zum Schlüssel \"Bibi\" wird überschrieben\n",
    "print(\"Bibis neue Nummer:\", telefonbuch[\"Bibi\"])\n",
    "\n",
    "# Prüfen, ob ein Schlüssel im Dictionary vorhanden ist mit dem Schlüsselwort \"in\":\n",
    "if \"Bibi\" in telefonbuch:\n",
    "    print(\"Bibis Nummer:\", telefonbuch[\"Bibi\"])\n",
    "\n",
    "# Wir testen das mal mit einem Schlüssel, der nicht im Telefonbuch steht:\n",
    "if \"Karla\" in telefonbuch:\n",
    "    print(\"Karlas Nummer:\", telefonbuch[\"Karla\"])\n",
    "else:\n",
    "    print(\"Karla ist nicht im Telefonbuch\")\n",
    "\n",
    "# Löschen eines Schlüssel-Wert-Paares:\n",
    "del telefonbuch[\"Bibi\"]\n",
    "print(\"Das Telefonbuch, nachdem Bibi gelöscht wurde:\", telefonbuch)\n",
    "\n",
    "# Mit der Methode get kannst du einen Wert zu einem Schlüssel auslesen. Wenn der Schlüssel nicht existiert, wird ein Standardwert zurückgegeben:   \n",
    "# Bsp.: Weil Karla nicht im Telefonbuch steht, wird \"Kein Eintrag vorhanden\" ausgegeben:\n",
    "print(telefonbuch.get(\"Karla\", \"Kein Eintrag für Karla vorhanden\"))\n",
    "\n",
    "# keys() gibt eine Liste aller Schlüssel zurück, values() eine Liste aller Werte.\n",
    "# Über diese Listen kannst du dann mit einer Schleife iterieren:\n",
    "for name in telefonbuch.keys():\n",
    "    print(\"Name:\", name, \"Nummer:\", telefonbuch[name])\n",
    "for nummer in telefonbuch.values():\n",
    "    print(\"Nummer:\", nummer)\n",
    "# Tipp: Wenn man einfach nur schreibt...\n",
    "for name in telefonbuch:\n",
    "    print(\"Name:\", name, \"Nummer:\", telefonbuch[name])\n",
    "# ...wird automatisch über die Schlüssel iteriert, d.h. wie mit keys().\n"
   ]
  },
  {
   "cell_type": "markdown",
   "metadata": {},
   "source": [
    "## Beispiel: Mini-Vokabeltrainer\n",
    "Führe die folgende Zelle mehrfach aus. Jedesmal wird eine zufällige Vokabel abgefragt.\n",
    "\n",
    "Schaue dir nun den Code gründlich an, bis du verstehst, wie das Programm arbeitet."
   ]
  },
  {
   "cell_type": "code",
   "execution_count": null,
   "metadata": {},
   "outputs": [],
   "source": [
    "# Mini-Vokabeltrainer\n",
    "from random import choice\n",
    "\n",
    "deutsch2englisch = {\"Hund\": \"dog\", \"Katze\": \"cat\", \"Maus\": \"mouse\", \"Schwein\": \"pig\", \"Huhn\": \"chicken\", \"Pferd\": \"horse\"}\n",
    "deutsche_vokabeln = list(deutsch2englisch.keys())  # keys() liefert alle im Dictionary gespeicherten Schlüssel\n",
    "deutsches_wort = choice(deutsche_vokabeln)\n",
    "\n",
    "eingabe = input(f\"Wie lautet das englische Wort für {deutsches_wort}? \")\n",
    "richtige_antwort = deutsch2englisch[deutsches_wort]   # Beim Schlüssel deutsches_wort gespeicherten Wert abfragen\n",
    "\n",
    "if eingabe == richtige_antwort:\n",
    "    print(\"Well done! Your knowledge is impressive!\")\n",
    "else:\n",
    "    print(f\"Sorry, the correct answer is {richtige_antwort}.\")"
   ]
  },
  {
   "cell_type": "markdown",
   "metadata": {},
   "source": [
    "## Übungen zu Dictionaries"
   ]
  },
  {
   "cell_type": "markdown",
   "metadata": {},
   "source": [
    "### Aufgabe: Artikel und Preise\n",
    "Unten siehst du ein Dictionary, das Produkte (als Schlüssel) und deren Preise (als Werte) enthält. \n",
    "\n",
    "a) Schreibe eine Funktion `preis_fuer`, die als Parameter einen Produktnamen übergeben bekommt und den Preis des Produkts zurückgibt. Falls das Produkt nicht im Dictionary ist, soll eine Fehlermeldung angezeigt werden.\n",
    "\n",
    "b) Wenn ein Artikelname unbekannt ist, soll einfach 0.0 zurückegeliefert werden. (Es gibt mehrere Möglichkeiten, das zu erreichen. Schaue dir die Code-Beispiele zum Telefonbuch weiter oben an.)\n",
    "\n",
    "c) Angenommen, Gurken würden, genau wie Äpfel, 0,50 Euro kosten. Ist das ein Problem? Falls ja, welche Fehlermeldung erwartest du?"
   ]
  },
  {
   "cell_type": "code",
   "execution_count": null,
   "metadata": {},
   "outputs": [],
   "source": [
    "preis_dict = {\n",
    "    \"Apfel\": 0.5,\n",
    "    \"Banane\": 0.3,\n",
    "    \"Kirschen\": 1.2,\n",
    "    \"Pfirsich\": 0.8,\n",
    "    \"Gurke\": 0.6,\n",
    "    \"Erdbeeren\": 2.5\n",
    "}\n",
    "\n",
    "def preis_fuer(artikel: str) -> float:\n",
    "    ...  # Hier fehlt dein Code!\n",
    "\n",
    "# Teste deine Funktion mit diesen Beispielen:\n",
    "print(preis_fuer(\"Banane\"))  # Sollte 0.3 ausgeben\n",
    "print(preis_fuer(\"Kirschen\"))  # Sollte 1.2 ausgeben\n",
    "print(preis_fuer(\"Erdbeeren\"))  # Sollte 2.5 ausgeben\n"
   ]
  },
  {
   "cell_type": "markdown",
   "metadata": {},
   "source": [
    "### Aufgabe: Häufigkeit von Buchstaben zählen\n",
    "Schreibe ein Programm, das einen String liest und daraus ein Dictionary erstellt, das die Häufigkeit jedes Buchstabens im Satz zählt.\n",
    "\n",
    "```{admonition} Tipp, falls du nicht weiterkommst:\n",
    ":class: tip, dropdown\n",
    "Du musst unterscheiden, ob du einen Buchstaben das erste Mal siehst oder er schon früher vorkam.\n",
    "```"
   ]
  },
  {
   "cell_type": "code",
   "execution_count": 14,
   "metadata": {},
   "outputs": [
    {
     "name": "stdout",
     "output_type": "stream",
     "text": [
      "5\n"
     ]
    }
   ],
   "source": [
    "satz = \"ChatGPT tut sich sehr schwer damit, den Buchstaben 'r' in Wörtern zu zählen.\"\n",
    "\n",
    "buchstaben = dict()   # leeres Dictionary anlegen\n",
    "\n",
    "# Hier fehlt dein Code!\n",
    "\n",
    "# Test: Wie oft kommt der Buchstabe 'r' im Satz vor? \n",
    "print(buchstaben[\"r\"])   # Ergebnis sollte 5 sein"
   ]
  },
  {
   "cell_type": "markdown",
   "metadata": {},
   "source": [
    "Lösung:"
   ]
  },
  {
   "cell_type": "code",
   "execution_count": 15,
   "metadata": {
    "tags": [
     "hide-cell"
    ]
   },
   "outputs": [
    {
     "name": "stdout",
     "output_type": "stream",
     "text": [
      "5\n"
     ]
    }
   ],
   "source": [
    "# Lösung:\n",
    "satz = \"ChatGPT tut sich sehr schwer damit, den Buchstaben 'r' in Wörtern zu zählen.\"\n",
    "\n",
    "buchstaben = dict()  # leeres Dictionary anlegen\n",
    "for buchstabe in satz:  # Schleife über alle Buchstaben im Satz \n",
    "    if buchstabe not in buchstaben:  # Diesen Buchstaben zum ersten Mal gesehen?\n",
    "        buchstaben[buchstabe] = 1    # Dann initialisiere den Zähler auf 1\n",
    "    else:\n",
    "        buchstaben[buchstabe] += 1   # Ansonsten erhöhe den Zähler um 1\n",
    "\n",
    "# Test: Wie oft kommt der Buchstabe 'r' im Satz vor? \n",
    "print(buchstaben[\"r\"])   # Ergebnis sollte 5 sein"
   ]
  },
  {
   "cell_type": "markdown",
   "metadata": {},
   "source": [
    "### Aufgaben: Kontodaten\n",
    "Für eine Banking-App hast du die Klasse `Konto` entwickelt (s. unten). Da du damit rechnest, bald Millionen von Kunden zu betreuen, muss deine App blitzschnell von der Kontonummer auf alle Kontendaten zugreifen können.\n",
    "\n",
    "a) Ergänze den untenstehenden Code entsprechend.  \n",
    "\n",
    "b) Ein Kunde kann *mehrere* Konten besitzen. Wie würdest du vorgehen, um über den *Namen* des Kunden auf *alle* seine Konten zugreifen zu können."
   ]
  },
  {
   "cell_type": "code",
   "execution_count": 16,
   "metadata": {},
   "outputs": [
    {
     "name": "stdout",
     "output_type": "stream",
     "text": [
      "2000.0\n"
     ]
    }
   ],
   "source": [
    "class Konto:\n",
    "    def __init__(self, kontonummer: int, vorname: str, nachname: str, kontostand: float):\n",
    "        self.kontonummer = kontonummer\n",
    "        self.vorname = vorname\n",
    "        self.nachname = nachname\n",
    "        self.kontostand = kontostand\n",
    "\n",
    "# Mehrere Konten anlegen\n",
    "konten = [Konto(123456, \"Max\", \"Mustermann\", 1000.0), \n",
    "          Konto(789012, \"Erika\", \"Musterfrau\", 2000.0), \n",
    "          Konto(345678, \"Moritz\", \"Musterkind\", 3000.0),\n",
    "          Konto(901234, \"Eva\", \"Musterfrau\", 4000.0)]\n",
    "\n",
    "# AUFGABE: Erweitere das Programm so, dass man über die Kontonummer auf ein Konto zugreifen kann.\n",
    "\n",
    "konten_dict = dict()  # leeres Dictionary anlegen\n",
    "\n",
    "# Hier fehlt dein Code!\n",
    "\n",
    "\n",
    "# Test: Kontostand von Konto mit Kontonummer 789012 ausgeben\n",
    "# Erwartetes Ergebnis: 2000.0\n",
    "\n",
    "      # Ergänze den Testcode hier selbst"
   ]
  },
  {
   "cell_type": "markdown",
   "metadata": {},
   "source": [
    "Lösung:"
   ]
  },
  {
   "cell_type": "code",
   "execution_count": null,
   "metadata": {
    "tags": [
     "hide-cell"
    ]
   },
   "outputs": [
    {
     "name": "stdout",
     "output_type": "stream",
     "text": [
      "2000.0\n"
     ]
    }
   ],
   "source": [
    "class Konto:\n",
    "    def __init__(self, kontonummer: int, vorname: str, nachname: str, kontostand: float):\n",
    "        self.kontonummer = kontonummer\n",
    "        self.vorname = vorname\n",
    "        self.nachname = nachname\n",
    "        self.kontostand = kontostand\n",
    "\n",
    "# Mehrere Konten anlegen\n",
    "konten = [Konto(123456, \"Max\", \"Mustermann\", 1000.0), \n",
    "          Konto(789012, \"Erika\", \"Musterfrau\", 2000.0), \n",
    "          Konto(345678, \"Moritz\", \"Musterkind\", 3000.0),\n",
    "          Konto(901234, \"Eva\", \"Musterfrau\", 4000.0)]\n",
    "\n",
    "# Erweitere das Programm so, dass man über die Kontonummer auf ein Konto zugreifen kann.\n",
    "\n",
    "# Lösung:\n",
    "# Um über die Kontonummer schnell auf ein Konto zugreifen zu können, legen wir ein Dictionary an:\n",
    "konten_dict = dict()  # leeres Dictionary anlegen\n",
    "for konto in konten:\n",
    "    konten_dict[konto.kontonummer] = konto  # Schlüssel: Kontonummer, Wert: Konto-Objekt\n",
    "\n",
    "# Test: Kontostand von Konto mit Kontonummer 789012 ausgeben\n",
    "print(konten_dict[789012].kontostand)  # Ergebnis sollte 2000.0 sein"
   ]
  },
  {
   "cell_type": "markdown",
   "metadata": {},
   "source": [
    "### Aufgabe: Mini-Vokabeltrainer reloaded\n",
    "Weiter oben hast du (hoffentlich!) den Code des Vokabeltrainers genau studiert. Programmiere ihn jetzt nach - natürlich möglichst ohne nochmal nachzuschauen."
   ]
  },
  {
   "cell_type": "code",
   "execution_count": null,
   "metadata": {},
   "outputs": [],
   "source": [
    "# Deine Version des Vokabeltrainers\n",
    "\n",
    "...\n"
   ]
  },
  {
   "cell_type": "markdown",
   "metadata": {},
   "source": [
    "## Wie arbeiten Dictionaries intern?\n",
    "\n",
    "Gute Frage - schön, dass du dich dafür interessierst... Leider haben wir in diesem Schuljahr nicht genügend Zeit, um uns das genauer anzuschauen 😿  \n",
    "\n",
    "Aber keine Sorge: Im Abi kommt das Thema auch nicht dran, so dass wir es hier guten Gewissens weglassen können!"
   ]
  }
 ],
 "metadata": {
  "kernelspec": {
   "display_name": "base",
   "language": "python",
   "name": "python3"
  },
  "language_info": {
   "codemirror_mode": {
    "name": "ipython",
    "version": 3
   },
   "file_extension": ".py",
   "mimetype": "text/x-python",
   "name": "python",
   "nbconvert_exporter": "python",
   "pygments_lexer": "ipython3",
   "version": "3.12.2"
  }
 },
 "nbformat": 4,
 "nbformat_minor": 2
}
