{
 "cells": [
  {
   "cell_type": "markdown",
   "metadata": {},
   "source": [
    "# Der Minimax-Algorithmus"
   ]
  },
  {
   "cell_type": "markdown",
   "metadata": {},
   "source": [
    "## Einführung\n",
    "Wenn Computer in Spielen gegen Menschen antreten, z.B. in Schach, Go oder auch nur dem einfachen Tic-Tac-Toe, \n",
    "dann müssen sie in jeder Runde den bestmöglichen Zug finden. Dafür gibt es verschiedene Algorithmen, die in der Künstlichen Intelligenz eingesetzt werden. Der **Minimax-Algorithmus** ist der grundlegende Algorithmus für das Finden des besten Zuges in einem Spiel. Er\n",
    "wurde bereits in den 1950er Jahren entwickelt und ist heute noch in vielen Spielen im Einsatz.\n",
    "\n",
    "Minimax ist *kein* Lernverfahren, sondern gehört zur *problemlösenden* KI. \n",
    "\n",
    "Zur Einführung schaue dir die folgende Präsentation an. Klicke dazu auf das Bild oder [diesen Link](./Minimax_Einführung_13-01-2025.pdf). \n",
    "\n",
    "<div style=\"text-align: center\">\n",
    "<a href=\"Minimax_Einführung_13-01-2025.pdf\">\n",
    "    <img src=\"bilder/tictactoe_spielbaum_klein.png\" alt=\"Minimax bei TicTacToe\" style=\"width:50%;\">\n",
    "</a>\n",
    "</div>\n",
    "\n"
   ]
  },
  {
   "cell_type": "markdown",
   "metadata": {},
   "source": [
    "## Übungen\n",
    "Mit [dieser interaktiven Webseite](https://embee0.github.io/alphabetapruning/) kannst du Minimax mit Alpha-Beta-Pruning *online* üben.\n",
    "\n",
    "Wenn du - als Vorbereitung auf die schriftliche Klausur und das Abi - das Verfahren auch *auf Papier* üben möchtest, dann drucke [die hier verlinkten Aufgaben](./AB_Minimax_AlphaBeta.pdf) aus.\n"
   ]
  }
 ],
 "metadata": {
  "language_info": {
   "name": "python"
  }
 },
 "nbformat": 4,
 "nbformat_minor": 2
}
