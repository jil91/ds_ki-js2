{
 "cells": [
  {
   "cell_type": "markdown",
   "metadata": {},
   "source": [
    "# Binäre Suchbäume\n",
    "\n",
    "Da dieses Thema fürs Abitur nicht relevant ist, sparen wir es uns für die Zeit nach der schriftlichen Prüfung auf!"
   ]
  }
 ],
 "metadata": {
  "language_info": {
   "name": "python"
  }
 },
 "nbformat": 4,
 "nbformat_minor": 2
}
