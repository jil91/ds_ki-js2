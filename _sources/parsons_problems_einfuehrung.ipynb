{
 "cells": [
  {
   "cell_type": "markdown",
   "metadata": {},
   "source": [
    "# Parsons-Probleme"
   ]
  },
  {
   "cell_type": "markdown",
   "metadata": {
    "tags": [
     "remove-input"
    ]
   },
   "source": [
    "In diesem interaktiven Buch triffst du immer wieder auf [**Parsons-Probleme**](https://static.teachcomputing.org/pedagogy/QR13-Parsons-problems.pdf?ref=blog.teachcomputing.org). Dabei handelt es sich um eine besondere Art von Programmieraufgabe, bei der Du die Anweisungen eines Programmcodes in die *richtige Reihenfolge* bringen musst. Anstatt den vollständigen Code selbst zu schreiben, erhältst Du vorgegebene Codezeilen, die durcheinandergebracht worden sind. Deine Aufgabe ist es, diese Zeilen so zu ordnen, dass ein funktionierendes Programm entsteht. Du lernst so (hoffentlich), die Logik und Struktur von Programmen besser zu verstehen, musst dabei aber nicht immmer auf die richtige *Syntax* achten, weil diese ja schon vorgegeben ist.\n",
    "\n",
    "**Aufgabe**: Probiere es gleich mal aus. Ordne das untenstehende Programm so um, dass es den Durchschnitt aller ungeraden Zahlen zwischen 10 und 20 berechnet.\n",
    "\n",
    "Achtung: Weil wir mit Python arbeiten, ist es wichtig, dass du auch immer korrekt *einrückst*."
   ]
  },
  {
   "cell_type": "code",
   "execution_count": 6,
   "metadata": {
    "tags": [
     "remove-input"
    ]
   },
   "outputs": [
    {
     "data": {
      "text/html": [
       "\n",
       "        <iframe\n",
       "            width=\"1000\"\n",
       "            height=\"600\"\n",
       "            src=\"parsonsproblems/parsons2allgemein.html?problem=CnN1bW1lID0gMAphbnphaGwgPSAwCmZvciB6YWhsIGluIHJhbmdlKDEwLCAyMCk6CiAgICBpZiB6YWhsICUgMiA9PSAwOgogICAgICAgIGNvbnRpbnVlCiAgICBhbnphaGwgKz0gMQogICAgc3VtbWUgKz0gemFobApkdXJjaHNjaG5pdHQgPSBzdW1tZSAvIGFuemFobApwcmludCgiRGVyIER1cmNoc2Nobml0dCBkZXIgdW5nZXJhZGVuIFphaGxlbiB6d2lzY2hlbiAxMCBiaXMgMjAgaXN0IiwgZHVyY2hzY2huaXR0KQo\"\n",
       "            frameborder=\"0\"\n",
       "            allowfullscreen\n",
       "            \n",
       "        ></iframe>\n",
       "        "
      ],
      "text/plain": [
       "<IPython.lib.display.IFrame at 0x111094f50>"
      ]
     },
     "execution_count": 6,
     "metadata": {},
     "output_type": "execute_result"
    }
   ],
   "source": [
    "problem_str = \"\"\"\n",
    "summe = 0\n",
    "anzahl = 0\n",
    "for zahl in range(10, 20):\n",
    "    if zahl % 2 == 0:\n",
    "        continue\n",
    "    anzahl += 1\n",
    "    summe += zahl\n",
    "durchschnitt = summe / anzahl\n",
    "print(\"Der Durchschnitt der ungeraden Zahlen zwischen 10 bis 20 ist\", durchschnitt)\n",
    "\"\"\"\n",
    "\n",
    "from IPython.display import IFrame\n",
    "import base64\n",
    "import urllib.parse\n",
    "\n",
    "encoded_problem = base64.b64encode(bytes(problem_str, 'utf-8')).decode('utf-8')\n",
    "encoded_problem = encoded_problem.rstrip(\"=\")  # remove trailing '=' \n",
    "safe_string = urllib.parse.quote_plus(encoded_problem)\n",
    "url_str = f\"parsonsproblems/parsons2allgemein.html\"\n",
    "IFrame(url_str, width=1000, height=600, problem=safe_string)"
   ]
  },
  {
   "cell_type": "markdown",
   "metadata": {},
   "source": [
    "In der folgenden Notebook-Zelle kannst du deine Lösung auch eintippen und ausprobieren, ob er funktioniert. Wenn alles stimmt, sollte als Ausgabe erscheinen:\n",
    "\n",
    "`Der Durchschnitt der ungeraden Zahlen zwischen 10 bis 20 ist 15.0`"
   ]
  },
  {
   "cell_type": "code",
   "execution_count": null,
   "metadata": {},
   "outputs": [],
   "source": [
    "# Aktiviere das Live Coding mit dem 🚀-Symbol und gib deine\n",
    "# Lösung des Parsons-Problems hier ein. Stimmt die Ausgabe?\n",
    "\n",
    "\n"
   ]
  }
 ],
 "metadata": {
  "kernelspec": {
   "display_name": "base",
   "language": "python",
   "name": "python3"
  },
  "language_info": {
   "codemirror_mode": {
    "name": "ipython",
    "version": 3
   },
   "file_extension": ".py",
   "mimetype": "text/x-python",
   "name": "python",
   "nbconvert_exporter": "python",
   "pygments_lexer": "ipython3",
   "version": "3.11.8"
  }
 },
 "nbformat": 4,
 "nbformat_minor": 2
}
