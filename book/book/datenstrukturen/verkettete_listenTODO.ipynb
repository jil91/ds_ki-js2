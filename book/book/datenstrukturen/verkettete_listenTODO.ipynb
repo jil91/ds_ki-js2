{
 "cells": [
  {
   "cell_type": "markdown",
   "metadata": {},
   "source": [
    "# TODO Verkettete Listen"
   ]
  },
  {
   "cell_type": "markdown",
   "metadata": {},
   "source": [
    "## Planung UE Verkettete Listen\n",
    "\n",
    "SuS-Aktivitäten:\n",
    "- OD vorgeben -> Mit welchen Aktionen kann man das erzeugen?\n",
    "- OD zeichnen\n",
    "- Pseudocode für Operation entfernenVorne oder entfernen(index)\n",
    "- Python-Umsetzung mit Tests\n",
    "\n",
    "\n",
    "TODO\n",
    "- Der Link zum Repository funktioniert immer noch nicht -> \n",
    "- make deploy: per scp oder besser per rsync (s. chatgpt)\n",
    "- Video einbauen\n",
    "- Python-Tutor für Animation"
   ]
  },
  {
   "cell_type": "markdown",
   "metadata": {},
   "source": [
    "Begriffe:\n",
    "- Dynamische Datenstrukturen: Datenstrukturen, die zur Laufzeit verändert werden können (im Gegensatz zu statischen Datenstrukturen, z.B. Arrays)\n",
    "- Referenz, Zeiger (engl. pointer): Speicheradresse eines Objekts\n",
    "- "
   ]
  },
  {
   "cell_type": "markdown",
   "metadata": {},
   "source": [
    "<iframe width=\"560\" height=\"315\" src=\"https://www.youtube.com/embed/1cdGc-33xIk?si=RXa7aSDJLzC_L5dg\" title=\"YouTube video player\" frameborder=\"0\" allow=\"accelerometer; autoplay; clipboard-write; encrypted-media; gyroscope; picture-in-picture; web-share\" referrerpolicy=\"strict-origin-when-cross-origin\" allowfullscreen></iframe>"
   ]
  }
 ],
 "metadata": {
  "language_info": {
   "name": "python"
  }
 },
 "nbformat": 4,
 "nbformat_minor": 2
}
