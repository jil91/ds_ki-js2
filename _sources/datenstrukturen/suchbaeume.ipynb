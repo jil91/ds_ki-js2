{
 "cells": [
  {
   "cell_type": "markdown",
   "metadata": {},
   "source": [
    "# Binäre Suchbäume\n",
    "\n",
    "Dieses Thema ist nicht relevant fürs ABI!<br>\n",
    "Dennoch kann es eine wichtige Datenstruktur darstellen und wird deshalb hier kurz gezeigt."
   ]
  },
  {
   "cell_type": "markdown",
   "metadata": {},
   "source": [
    "```{admonition} Definition\n",
    ":class: hint\n",
    "Ein **binärer Suchbaum** ist ein spezieller Binärbaum mit der Eigenschaft, dass **alle Knoteninhalte des linken\n",
    "Teilbaums** **kleiner** sind als der **Inhalt des Knotens**. **Alle Knoteninhalte des rechten Teilbaums** sind **größer** als\n",
    "der **Inhalt des Knotens**.\n",
    "```"
   ]
  },
  {
   "cell_type": "markdown",
   "metadata": {},
   "source": [
    "Folgende Abbildung zeigt ein Beispiel eines binären Suchbaums:"
   ]
  },
  {
   "cell_type": "markdown",
   "metadata": {},
   "source": [
    "```{figure} ../figures/binSuchbaum.png\n",
    "---\n",
    "width: 95%\n",
    "name: binSuchbaum\n",
    "align: center\n",
    "---\n",
    "Beispiel für einen binären Suchbaum\n",
    "```"
   ]
  }
 ],
 "metadata": {
  "language_info": {
   "name": "python"
  }
 },
 "nbformat": 4,
 "nbformat_minor": 2
}
