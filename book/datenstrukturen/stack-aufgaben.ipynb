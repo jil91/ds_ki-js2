{
 "cells": [
  {
   "cell_type": "markdown",
   "metadata": {},
   "source": [
    "# Übungen zu Stapeln\n",
    "\n",
    "## Höhe des Stapels bestimmen\n",
    "In der folgenden Zelle siehst du die Klasse `Stapel`, die wir bereits entwickelt haben. Schau dir nun insb. die Methode `anzahl_elemente` an, mit der man die \"Höhe\" des Stapels bestimmen kann.\n",
    "\n",
    "`````{admonition} Warum ist diese Lösung ineffizient?\n",
    ":class: tip, dropdown\n",
    "Weil zur Ermittlung der Höhe alle Elemente des Stapels durchlaufen werden müssen.\n",
    "`````\n",
    "\n",
    "Es geht natürlich besser - weißt du wie? \n",
    "````{admonition} Antwort nur anschauen, wenn du nicht allein darauf kommst!\n",
    ":class: tip, dropdown\n",
    "Man kann die aktuelle Höhe des Stapels als *Attribut* `hoehe` speichern und dieses in `anzahl_elemente` einfach zurückgeben.\n",
    "```{admonition} Man muss dabei allerdings darauf achten, dass...  \n",
    ":class: tip, dropdown\n",
    "...bei jedem `push` und `pop` das Attribut `hoehe` hoch- bzw. heruntergezählt wird.\n",
    "```\n",
    "````\n",
    "\n",
    "**Aufgabe:** Ändere die Klasse `Stapel` und insb. die Methode `anzahl_elemente`, so dass die Höhe des Stapels nun geschickt verwaltet und ohne Aufwand zurückgegeben wird."
   ]
  },
  {
   "cell_type": "code",
   "execution_count": 33,
   "metadata": {},
   "outputs": [
    {
     "name": "stdout",
     "output_type": "stream",
     "text": [
      "100000\n"
     ]
    }
   ],
   "source": [
    "class Stapel:\n",
    "\n",
    "    class Knoten:\n",
    "        def __init__(self, inhalt, naechster=None):  # Wenn für naechster kein Wert angegeben wird, ist er None (Standardwert)\n",
    "            self.inhalt = inhalt\n",
    "            self.naechster = naechster\n",
    "\n",
    "    def __init__(self):\n",
    "        self.anfang: Stapel.Knoten|None = None\n",
    "\n",
    "    def push(self, daten):\n",
    "        \"\"\"legt ein neues Element auf den Stapel\"\"\"\n",
    "        neuer_knoten = Stapel.Knoten(daten, self.anfang)  # Der neue Knoten zeigt auf den bisherigen Anfang\n",
    "        self.anfang = neuer_knoten  # Der neue Knoten ist jetzt der Anfang\n",
    "\n",
    "    def pop(self):\n",
    "        \"\"\"entfernt das oberste Element vom Stapel und gibt es zurück\"\"\"\n",
    "        if self.anfang is None:\n",
    "            raise IndexError(\"Pop-Operation auf leerem Stapel nicht möglich\")\n",
    "        inhalt = self.anfang.inhalt  # Inhalt des ersten Knotens merken\n",
    "        self.anfang = self.anfang.naechster  # Anfang auf den nächsten Knoten setzen\n",
    "        return inhalt\n",
    "\n",
    "    def top(self):\n",
    "        \"\"\"gibt das oberste Element des Stapels zurück, ohne es zu entfernen\"\"\"\n",
    "        if self.anfang is None:\n",
    "            raise IndexError(\"Top-Operation auf leerem Stapel nicht möglich\")\n",
    "        return self.anfang.inhalt\n",
    "\n",
    "    def ist_leer(self):\n",
    "        \"\"\"gibt True zurück, wenn der Stapel leer ist, sonst False\"\"\"\n",
    "        return self.anfang is None  # Kurzform für if self.anfang is None: return True else: return False\n",
    "    \n",
    "    def anzahl_elemente(self):\n",
    "        \"\"\"gibt die Anzahl der Elemente auf dem Stapel zurück\"\"\"\n",
    "        # ACHTUNG: Diese Methode ist ineffizient, da sie die gesamte interne Liste durchlaufen muss!\n",
    "        anzahl = 0\n",
    "        knoten = self.anfang\n",
    "        while knoten is not None:\n",
    "            anzahl += 1\n",
    "            knoten = knoten.naechster\n",
    "        return anzahl\n",
    "    \n",
    "# Test\n",
    "s = Stapel()\n",
    "for i in range(100000):\n",
    "    s.push(i)\n",
    "print(s.anzahl_elemente())  # Bei der schlechten Implementierung dauert das lange\n"
   ]
  },
  {
   "cell_type": "markdown",
   "metadata": {},
   "source": [
    "**Lösung:**"
   ]
  },
  {
   "cell_type": "code",
   "execution_count": 26,
   "metadata": {
    "tags": [
     "hide-cell"
    ]
   },
   "outputs": [],
   "source": [
    "class Stapel:\n",
    "\n",
    "    class Knoten:\n",
    "        def __init__(self, inhalt, naechster=None):  # Wenn für naechster kein Wert angegeben wird, ist er None (Standardwert)\n",
    "            self.inhalt = inhalt\n",
    "            self.naechster = naechster\n",
    "\n",
    "    def __init__(self):\n",
    "        self.anfang: Stapel.Knoten|None = None\n",
    "        self.hoehe = 0   # TEIL DER LÖSUNG\n",
    "\n",
    "    def push(self, daten):\n",
    "        \"\"\"legt ein neues Element auf den Stapel\"\"\"\n",
    "        neuer_knoten = Stapel.Knoten(daten, self.anfang)  # Der neue Knoten zeigt auf den bisherigen Anfang\n",
    "        self.anfang = neuer_knoten  # Der neue Knoten ist jetzt der Anfang\n",
    "        self.hoehe += 1   # TEIL DER LÖSUNG\n",
    "\n",
    "    def pop(self):\n",
    "        \"\"\"entfernt das oberste Element vom Stapel und gibt es zurück\"\"\"\n",
    "        if self.anfang is None:\n",
    "            raise IndexError(\"Pop-Operation auf leerem Stapel nicht möglich\")\n",
    "        inhalt = self.anfang.inhalt  # Inhalt des ersten Knotens merken\n",
    "        self.anfang = self.anfang.naechster  # Anfang auf den nächsten Knoten setzen\n",
    "        self.hoehe -= 1   # TEIL DER LÖSUNG\n",
    "        return inhalt\n",
    "\n",
    "    def top(self):\n",
    "        \"\"\"gibt das oberste Element des Stapels zurück, ohne es zu entfernen\"\"\"\n",
    "        if self.anfang is None:\n",
    "            raise IndexError(\"Top-Operation auf leerem Stapel nicht möglich\")\n",
    "        return self.anfang.inhalt\n",
    "\n",
    "    def ist_leer(self):\n",
    "        \"\"\"gibt True zurück, wenn der Stapel leer ist, sonst False\"\"\"\n",
    "        return self.anfang is None  # Kurzform für if self.anfang is None: return True else: return False\n",
    "    \n",
    "    def anzahl_elemente(self):\n",
    "        \"\"\"gibt die Anzahl der Elemente auf dem Stapel zurück\"\"\"\n",
    "        return self.hoehe   # TEIL DER LÖSUNG\n",
    "\n",
    "# Test\n",
    "# s = Stapel()\n",
    "# s.push(1)\n",
    "# print(s.anzahl_elemente())  # Ausgabe: 1\n",
    "# s.push(2)\n",
    "# s.push(3)\n",
    "# print(s.anzahl_elemente())  # Ausgabe: 3\n",
    "# s.pop()\n",
    "# print(s.anzahl_elemente())  # Ausgabe: 2\n",
    "# s.pop()\n",
    "# s.pop()\n",
    "# print(s.anzahl_elemente())  # Ausgabe: 0"
   ]
  },
  {
   "cell_type": "markdown",
   "metadata": {},
   "source": [
    "## Aufgabe: Umgekehrte polnische Notation (UPN)\n",
    "In der [umgekehrten polnischen Notation (UPN)](https://de.wikipedia.org/wiki/Umgekehrte_polnische_Notation) für Rechenausdrücke werden die Operanden *vor* den Operatoren geschrieben.\n",
    "\n",
    "Beispiel: 3 4 + 5 * bedeutet (3 + 4) * 5 = 35\n",
    "\n",
    "**Aufgabe**: Schreibe eine Funktion, die einen String in UPN auswertet.\n",
    "\n",
    "```{hint}\n",
    "Umgangsprachlich kann man die Berechnung so beschreiben:\n",
    "\n",
    "- Man durchläuft nacheinander alle Elemente des Ausdrucks (jeweils durch Leerzeichen getrennt)\n",
    "- Trifft man auf eine Zahl, legt man sie auf den Stack\n",
    "- Trifft man auf einen Operator `op`\n",
    "  - nimmt man die beiden obersten Elemente vom Stack\n",
    "  - und verrechnet sie mit dem Operator `op`.\n",
    "  - Das Ergebnis legt man wieder auf den Stack\n",
    "- Zum Schluss gibt man das oberste Element des Stacks zurück.\n",
    "```\n",
    "\n",
    "Hinweise:\n",
    "- Zerlege den Eingabe-String zuerst mit der `split`-Methode in Einzelelemente. ([Hier findest du eine Erklärung zu `split`](https://www.python-lernen.de/methode-string-split.htm).) \n",
    "- Dann bearbeite mit einer Schleife jedes Element.  \n",
    "- Nutze die unten definierte Funktion `ist_zahl`, um zwischen Zahlen und Operatoren zu unterscheiden.\n",
    "- Ach ja, und falls das noch nicht offensichtlich war: Nutze einen **Stapel**!"
   ]
  },
  {
   "cell_type": "code",
   "execution_count": 27,
   "metadata": {},
   "outputs": [],
   "source": [
    "def ist_zahl(string: str):\n",
    "    \"\"\"prüft, ob ein String eine Zahl ist. Bsp. ist_zahl(\"-123\") -> True, ist_zahl(\"abc\") -> False\"\"\"\n",
    "    try:\n",
    "        int(string)\n",
    "        return True\n",
    "    except ValueError:\n",
    "        return False"
   ]
  },
  {
   "cell_type": "code",
   "execution_count": 30,
   "metadata": {},
   "outputs": [
    {
     "name": "stdout",
     "output_type": "stream",
     "text": [
      "Tests für die Funktion berechne_upn:\n",
      "Falsch: 3 4 + ergibt None, erwartet war 7\n",
      "Falsch: 3 4 - ergibt None, erwartet war -1\n",
      "Falsch: 3 4 * ergibt None, erwartet war 12\n",
      "Falsch: 8 4 // ergibt None, erwartet war 2\n",
      "Falsch: 3 4 + 6 * ergibt None, erwartet war 42\n",
      "Falsch: 6 7 * 0 * ergibt None, erwartet war 0\n",
      "Falsch: 2 3 + 4 * 14 + 2 // 20 - 0 3 - * ergibt None, erwartet war 9\n",
      "Falsch: 2 3 + 4 * 14 + 2 // 20 - -3 * ergibt None, erwartet war 9\n",
      "Falsch: 42 1 1 - // ergibt None, erwartet war Fehler: Division durch 0\n"
     ]
    }
   ],
   "source": [
    "def berechne_upn(eingabe_im_upn_format: str) -> int:\n",
    "    \"\"\"berechnet den Wert eines UPN-Ausdrucks und gibt ihn zurück.\n",
    "    Beispiel: berechne_upn(\"3 4 + 6 *\") liefert 42\"\"\"\n",
    "\n",
    "    ... # Hier kommt dein Code hin\n",
    "    \n",
    "    return None  # Hier musst du den berechneten Wert des Term zurückgeben\n",
    "\n",
    "\n",
    "# Test: Liste mit Beispielen (jeweils UPN-Ausdruck und erwartetes Ergebnis)\n",
    "print(\"Tests für die Funktion berechne_upn:\")\n",
    "beispiele = [\n",
    "    (\"3 4 +\", 7),\n",
    "    (\"3 4 -\", -1),\n",
    "    (\"3 4 *\", 12),\n",
    "    (\"8 4 //\", 2),\n",
    "    (\"3 4 + 6 *\", 42),\n",
    "    (\"6 7 * 0 *\", 0),\n",
    "    (\"2 3 + 4 * 14 + 2 // 20 - 0 3 - *\", 9),\n",
    "    (\"2 3 + 4 * 14 + 2 // 20 - -3 *\", 9),\n",
    "    (\"42 1 1 - //\", \"Fehler: Division durch 0\"),\n",
    "]\n",
    "for upn, erwartet in beispiele:\n",
    "    try:\n",
    "        ergebnis = berechne_upn(upn)\n",
    "        if ergebnis == erwartet:\n",
    "            print(f\"Richtig: {upn} ergibt {ergebnis}\")\n",
    "        else:\n",
    "            print(f\"Falsch: {upn} ergibt {ergebnis}, erwartet war {erwartet}\")\n",
    "    except Exception as e:\n",
    "        if str(e) == erwartet:\n",
    "            print(f\"Richtig: {upn} wirft {e}\")\n",
    "        else:\n",
    "            print(f\"Falsch: {upn} wirft {e}, erwartet war {erwartet}\")"
   ]
  },
  {
   "cell_type": "markdown",
   "metadata": {},
   "source": [
    "**Lösung:**"
   ]
  },
  {
   "cell_type": "code",
   "execution_count": 29,
   "metadata": {
    "tags": [
     "hide-cell"
    ]
   },
   "outputs": [
    {
     "name": "stdout",
     "output_type": "stream",
     "text": [
      "Richtig: 3 4 + ergibt 7\n",
      "Richtig: 3 4 - ergibt -1\n",
      "Richtig: 3 4 * ergibt 12\n",
      "Richtig: 8 4 // ergibt 2\n",
      "Richtig: 3 4 + 6 * ergibt 42\n",
      "Richtig: 6 7 * 0 * ergibt 0\n",
      "Richtig: 2 3 + 4 * 14 + 2 // 20 - 0 3 - * ergibt 9\n",
      "Richtig: 2 3 + 4 * 14 + 2 // 20 - -3 * ergibt 9\n",
      "Richtig: 42 1 1 - // wirft Fehler: Division durch 0\n"
     ]
    }
   ],
   "source": [
    "def berechne_upn(eingabe_im_upn_format: str) -> int:\n",
    "    stapel = Stapel()\n",
    "    for token in eingabe_im_upn_format.split():\n",
    "        if ist_zahl(token):  # Wenn das Token eine (positive) Zahl ist\n",
    "            stapel.push(int(token))\n",
    "        else:\n",
    "            b = stapel.pop()\n",
    "            a = stapel.pop()\n",
    "            if token == \"+\":\n",
    "                stapel.push(a + b)\n",
    "            elif token == \"-\":\n",
    "                stapel.push(a - b)\n",
    "            elif token == \"*\":\n",
    "                stapel.push(a * b)\n",
    "            elif token == \"//\":\n",
    "                if b == 0:\n",
    "                    raise ValueError(\"Fehler: Division durch 0\")\n",
    "                stapel.push(a // b)\n",
    "            else:\n",
    "                raise ValueError(f\"Unbekanntes Token {token}\")\n",
    "    return stapel.pop()\n",
    "\n",
    "\n",
    "# Test: Liste mit Beispielen (jeweils UPN-Ausdruck und erwartetes Ergebnis)\n",
    "print(\"Tests für die Funktion berechne_upn:\")\n",
    "beispiele = [\n",
    "    (\"3 4 +\", 7),\n",
    "    (\"3 4 -\", -1),\n",
    "    (\"3 4 *\", 12),\n",
    "    (\"8 4 //\", 2),\n",
    "    (\"3 4 + 6 *\", 42),\n",
    "    (\"6 7 * 0 *\", 0),\n",
    "    (\"2 3 + 4 * 14 + 2 // 20 - 0 3 - *\", 9),\n",
    "    (\"2 3 + 4 * 14 + 2 // 20 - -3 *\", 9),\n",
    "    (\"42 1 1 - //\", \"Fehler: Division durch 0\"),\n",
    "]\n",
    "for upn, erwartet in beispiele:\n",
    "    try:\n",
    "        ergebnis = berechne_upn(upn)\n",
    "        if ergebnis == erwartet:\n",
    "            print(f\"Richtig: {upn} ergibt {ergebnis}\")\n",
    "        else:\n",
    "            print(f\"Falsch: {upn} ergibt {ergebnis}, erwartet war {erwartet}\")\n",
    "    except Exception as e:\n",
    "        if str(e) == erwartet:\n",
    "            print(f\"Richtig: {upn} wirft {e}\")\n",
    "        else:\n",
    "            print(f\"Falsch: {upn} wirft {e}, erwartet war {erwartet}\")"
   ]
  }
 ],
 "metadata": {
  "kernelspec": {
   "display_name": "base",
   "language": "python",
   "name": "python3"
  },
  "language_info": {
   "codemirror_mode": {
    "name": "ipython",
    "version": 3
   },
   "file_extension": ".py",
   "mimetype": "text/x-python",
   "name": "python",
   "nbconvert_exporter": "python",
   "pygments_lexer": "ipython3",
   "version": "3.12.2"
  }
 },
 "nbformat": 4,
 "nbformat_minor": 2
}
